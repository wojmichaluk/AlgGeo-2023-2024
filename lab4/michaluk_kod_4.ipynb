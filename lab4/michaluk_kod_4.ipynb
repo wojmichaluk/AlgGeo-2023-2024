{
 "cells": [
  {
   "cell_type": "markdown",
   "metadata": {},
   "source": [
    "# Algorytm przecinania się odcinków na płaszczyźnie"
   ]
  },
  {
   "cell_type": "code",
   "execution_count": null,
   "metadata": {},
   "outputs": [],
   "source": [
    "import numpy as np\n",
    "import pandas as pd\n",
    "import matplotlib.pyplot as plt\n",
    "from bitalg.tests.test4 import Test\n",
    "from bitalg.visualizer.main import Visualizer\n",
    "from bitalg.sortedcontainers import SortedSet"
   ]
  },
  {
   "cell_type": "markdown",
   "metadata": {},
   "source": [
    "# Przydatne funkcje "
   ]
  },
  {
   "cell_type": "code",
   "execution_count": null,
   "metadata": {},
   "outputs": [],
   "source": [
    "def draw_example_1():\n",
    "    vis=Visualizer()\n",
    "    line_segments=((-0.5,0.5),(8.5,3.5),(1,3),(7,5),(2,4),(5,1),(4.5,3),(6.5,6),(0,5),(5.5,5.5))\n",
    "    vis.add_line_segment(line_segments)\n",
    "    vis.add_point([(x,y) for (x,y) in line_segments],s=25)\n",
    "    vis.show()\n",
    "    \n",
    "def draw_example_2():\n",
    "    vis=Visualizer()\n",
    "    line_segments=((-0.5,0.5),(8.5,3.5),(1,3),(7,5),(2,4),(5,1),(4.5,3),(6.5,6),(0,5),(5.5,5.5))\n",
    "    points=[(4,2),(2.5,3.5),(5.5,4.5)]\n",
    "    vis.add_line_segment(line_segments)\n",
    "    vis.add_point(points,color='red',s=35)\n",
    "    vis.add_point([(x,y) for (x,y) in line_segments],s=25)\n",
    "    vis.show()"
   ]
  },
  {
   "cell_type": "markdown",
   "metadata": {},
   "source": [
    "### Wprowadzenie\n",
    "Celem ćwiczenia jest zapoznanie się z algorytmem zamiatania wyznaczającym przecięcia się odcinków na płaszczyźnie oraz jego implementacja."
   ]
  },
  {
   "cell_type": "markdown",
   "metadata": {},
   "source": [
    "---\n",
    "Algorytm zamiatania w przypadku powyższego problemu polega na tym, że ustalamy miotłę, którą będzie prosta równoległa do osi $y$. Przesuwamy miotłę w wyznaczonym kierunku (kierunku zamiatania), w tym przypadku w prawo (w kierunku rosnących współrzędnych x-owych). Odpowiednie pozycje x-owe, w których miotła zatrzymuje się, nazywamy zdarzeniami. Informacje o nich przechowujemy w strukturze zdarzeń. Z kolei informacje potrzebne do obliczeń przechowujemy w strukturze stanu. Struktura stanu jest aktualizowana w każdym zdarzeniu. Na „zamiecionym” obszarze (czyli na lewo od miotły) znane jest rozwiązanie badanego problemu dla zdarzeń należących do tego obszaru, natomiast przecięcia na prawo od miotły są nieznane. "
   ]
  },
  {
   "cell_type": "markdown",
   "metadata": {},
   "source": [
    "W każdym położeniu miotły wyróżniamy odcinki:\n",
    "- przetworzone – oba ich końce znajdują się na lewo od miotły \n",
    "- aktywne – aktualnie przecinają miotłę \n",
    "- oczekujące – o obu końcach na prawo od miotły"
   ]
  },
  {
   "cell_type": "markdown",
   "metadata": {},
   "source": [
    "Punktami zdarzeń są końce odcinków oraz punkty przecięć. Tutaj następuje aktualizacja stanu miotły (zbioru odcinków aktywnych - przecinających ją) oraz testy przecięć."
   ]
  },
  {
   "cell_type": "markdown",
   "metadata": {},
   "source": [
    "---\n",
    "### Przykładowy zbiór odcinków przed wyznaczeniem punktów przecięcia"
   ]
  },
  {
   "cell_type": "code",
   "execution_count": null,
   "metadata": {},
   "outputs": [],
   "source": [
    "draw_example_1()"
   ]
  },
  {
   "cell_type": "markdown",
   "metadata": {},
   "source": [
    "### Przykładowy zbiór odcinków po wyznaczeniu punktów przecięcia"
   ]
  },
  {
   "cell_type": "code",
   "execution_count": null,
   "metadata": {},
   "outputs": [],
   "source": [
    "draw_example_2()"
   ]
  },
  {
   "cell_type": "markdown",
   "metadata": {},
   "source": [
    "# Generowanie losowych odcinków na płaszczyźnie"
   ]
  },
  {
   "cell_type": "markdown",
   "metadata": {},
   "source": [
    "<span style=\"color:red\">Ćw.</span> Uzupełnij funkcję ```generate_uniform_sections```."
   ]
  },
  {
   "cell_type": "code",
   "execution_count": null,
   "metadata": {},
   "outputs": [],
   "source": [
    "def generate_uniform_sections(max_x,max_y,n):\n",
    "    \"\"\"\n",
    "    Funkcja generuje odcinki o współrzędnych rzeczywistych w postaci par punktów. \n",
    "    Żaden wygenerowany odcinek nie jest odcinkiem pionowym.\n",
    "    Żadne dwa odcinki nie mają swoich końców o takiej samej współrzędnej x.\n",
    "    Zakres współrzędnych: dla x - (0, max_x), dla y - (0, max_y).\n",
    "    Pierwszy punkt reprezentujący odcinek to punkt \"lewy\" - o mniejszej współrzędnej x, drugi punkt to \"prawy\"\n",
    "    :param max_x: określa maksymalną wartość współrzędnej x, jaka może zostać wylosowana\n",
    "    :param max_y: określa maksymalną wartość współrzędnej y, jaka może zostać wylosowana\n",
    "    :param n: ilość generowanych odcinków\n",
    "    :return: tablica długości n odcinków w postaci krotek zawierających parę krotek \n",
    "    współrzędnych końców odcinków np. [((x1, y1), (x2, y2)), ((x3, y3), (x4, y4)),...]\n",
    "    \"\"\"\n",
    "    used_x=set()\n",
    "    sections=[]\n",
    "    \n",
    "    while len(sections)<n:\n",
    "        x1=np.random.uniform(0,max_x)\n",
    "        if x1 in used_x: \n",
    "            continue\n",
    "        used_x.add(x1)\n",
    "        y1=np.random.uniform(0,max_y)\n",
    "        point1=(x1,y1)\n",
    "        x2=np.random.uniform(0,max_x)\n",
    "        if x2 in used_x: \n",
    "            continue\n",
    "        used_x.add(x2)\n",
    "        y2=np.random.uniform(0,max_y)\n",
    "        point2=(x2,y2)\n",
    "        if x1<x2:\n",
    "            left,right=point1,point2\n",
    "        else:\n",
    "            left,right=point2,point1\n",
    "        sections.append((left,right))\n",
    "    return sections"
   ]
  },
  {
   "cell_type": "markdown",
   "metadata": {},
   "source": [
    "Przetestuj działanie funkcji ```generate_uniform_sections```."
   ]
  },
  {
   "cell_type": "code",
   "execution_count": null,
   "metadata": {},
   "outputs": [],
   "source": [
    "Test().runtest(1,generate_uniform_sections)"
   ]
  },
  {
   "cell_type": "markdown",
   "metadata": {},
   "source": [
    "<span style=\"color:red\">Ćw.</span> Wygeneruj 20 losowych odcinków w przestrzeni 2D o współrzędnych z przedziału $\\langle 0,1000\\rangle$. "
   ]
  },
  {
   "cell_type": "code",
   "execution_count": null,
   "metadata": {},
   "outputs": [],
   "source": [
    "generated_sections=generate_uniform_sections(1000,1000,20)"
   ]
  },
  {
   "cell_type": "markdown",
   "metadata": {},
   "source": [
    "Zwizualizuj otrzymane odcinki."
   ]
  },
  {
   "cell_type": "code",
   "execution_count": null,
   "metadata": {},
   "outputs": [],
   "source": [
    "vis=Visualizer()\n",
    "vis.add_line_segment(generated_sections)\n",
    "vis.add_point([generated_sections[i//2][i%2] for i in range(2*len(generated_sections))],s=15)\n",
    "vis.show()"
   ]
  },
  {
   "cell_type": "markdown",
   "metadata": {},
   "source": [
    "<span style=\"color:red\">Ćw.</span> Zaimplementuj możliwość interaktywnego dodawania odcinków przez rysowanie myszką."
   ]
  },
  {
   "cell_type": "markdown",
   "metadata": {},
   "source": [
    "Poniższe funkcje umożliwiają dodawanie odcinków poprzez odpowiednie kliknięcia myszki. Aby dodać punkt, należy w danym miejscu dwukrotnie kliknąć lewym przyciskiem myszy. Dwa kolejno dodane punkty tworzą odcinek. Każdy punkt ma unikalną współrzędną x-ową - przy próbie dodania punktu o już \"użytej\" współrzędnej x-owej program wystosowuje odpowiedni komunikat. Zakończenie wprowadzania odcinków odbywa się po dodaniu co najmniej dwóch odcinków poprzez dwukrotne kliknięcie prawym przyciskiem myszy."
   ]
  },
  {
   "cell_type": "code",
   "execution_count": null,
   "metadata": {},
   "outputs": [],
   "source": [
    "%matplotlib tk\n",
    "\n",
    "interactive_sections=[]\n",
    "used_x=set()\n",
    "active=True\n",
    "current_points=[]\n",
    "\n",
    "def draw_point(point):\n",
    "    \"\"\"\n",
    "    Funkcja rysuje punkt o współrzędnych przekazanych w argumencie.\n",
    "    :param point: punkt reprezentowany przez krotkę współrzędnych x, y odczytanych z kliknięcia myszki\n",
    "    \"\"\"\n",
    "    plt.scatter(point[0],point[1],color=\"red\")\n",
    "    plt.show()\n",
    "\n",
    "def draw_line(points):\n",
    "    \"\"\"\n",
    "    Funkcja rysuje odcinek między dwoma wskazanymi punktami.\n",
    "    :param points: tablica punktów (krotek współrzędnych), które są końcami odcinka\n",
    "    \"\"\"\n",
    "    ax=plt.gca()\n",
    "    x=[points[0][0],points[1][0]]\n",
    "    y=[points[0][1],points[1][1]]\n",
    "    line=ax.plot(x,y,color=\"red\") \n",
    "    ax.figure.canvas.draw()        \n",
    "\n",
    "def onclick(event):\n",
    "    \"\"\"\n",
    "    Funkcja obsługuje zdarzenie kliknięcia myszką, dodając końce odcinka\n",
    "    w kliknięte miejsca lub kończąc wprowadzanie odcinków\n",
    "    :param event: zdarzenie kliknięcia myszką, które przechowuje m. in. informacje \n",
    "    o klikniętym punkcie oraz to, który przycisk myszy został kliknięty\n",
    "    \"\"\"\n",
    "    global active\n",
    "    global current_points\n",
    "\n",
    "    if event.dblclick and active:\n",
    "        if event.button==1:\n",
    "            x=event.xdata\n",
    "            y=event.ydata\n",
    "            if x in used_x:\n",
    "                ax.set_title(\"Współrzędne x-owe punktów nie mogą się powtarzać!\")\n",
    "                plt.pause(1.5)\n",
    "                ax.set_title(\"Kliknij dwukrotnie, aby dodać punkt.\\nKażda kolejna para punktów stworzy odcinek\")\n",
    "            else:\n",
    "                used_x.add(x)\n",
    "                current_points.append((x,y))\n",
    "                draw_point((x,y))\n",
    "                if len(current_points)==2:\n",
    "                    draw_line(current_points)\n",
    "                    interactive_sections.append((current_points[0],current_points[1]))\n",
    "                    current_points=[]\n",
    "        elif event.button==3:\n",
    "            if len(interactive_sections)<2:\n",
    "                ax.set_title(\"Dodaj co najmniej dwa odcinki!\")\n",
    "                plt.pause(1.5)\n",
    "                ax.set_title(\"Kliknij dwukrotnie, aby dodać punkt.\\nKażda kolejna para punktów stworzy odcinek\")\n",
    "            else:\n",
    "                active=False\n",
    "                plt.pause(0.5)\n",
    "                ax.set_title(\"Dziękuję! Zamykam w ciągu 2 sekund\")\n",
    "                plt.pause(2)\n",
    "                plt.close()\n",
    "\n",
    "fig,ax=plt.subplots()\n",
    "plt.get_current_fig_manager().set_window_title(\"Wygeneruj własny zbiór odcinków!\")\n",
    "ax.set_title(\"Kliknij dwukrotnie, aby dodać punkt.\\nKażda kolejna para punktów stworzy odcinek\")\n",
    "connection_id=fig.canvas.mpl_connect(\"button_press_event\",onclick)\n",
    "ax.set_xlim([0,2])\n",
    "ax.set_ylim([0,2])\n",
    "ax.aspect=1\n",
    "plt.tight_layout()\n",
    "plt.ion()\n",
    "plt.show()"
   ]
  },
  {
   "cell_type": "markdown",
   "metadata": {},
   "source": [
    "Zwizualizuj wygenerowane przez siebie odcinki. Wizualizacja algorytmów będzie przeprowadzana właśnie na nich, na odcinkach wygenerowanych wcześniej oraz na specjalnych zbiorach testowych, o których więcej opowiem w dalszej części programu."
   ]
  },
  {
   "cell_type": "code",
   "execution_count": null,
   "metadata": {},
   "outputs": [],
   "source": [
    "%matplotlib inline\n",
    "vis=Visualizer()\n",
    "vis.add_line_segment(interactive_sections)\n",
    "vis.add_point([interactive_sections[i//2][i%2] for i in range(2*len(interactive_sections))])\n",
    "vis.show()"
   ]
  },
  {
   "cell_type": "markdown",
   "metadata": {},
   "source": [
    " # Struktury używane do algorytmu zamiatania"
   ]
  },
  {
   "cell_type": "markdown",
   "metadata": {},
   "source": [
    "Aby zaimplementować algorytm zamiatania, potrzebne będą dwie pomocnicze struktury: struktura zdarzeń $Q$ oraz struktura stanu $T$. \n",
    "- struktura zdarzeń docelowo zawiera uporządkowane rosnąco względem współrzędnych x-owych końce odcinków oraz punkty przecięć wszystkich par odcinków, które kiedykolwiek były sąsiadami w strukturze stanu.\n",
    "- struktura stanu przechowuje zbiór odcinków aktywnych, uporządkowanych względem współrzędnych y-owych."
   ]
  },
  {
   "cell_type": "markdown",
   "metadata": {},
   "source": [
    "Struktury te mogą być różnie zaimplementowane, ale powinny zapewniać łatwość i efektywność operacji takich jak m. in. dodawanie / usuwanie elementów. W moim programie do efektywnej implementacji tych struktur korzystam ze struktury ```SortedSet``` z zewnętrznego pakietu ```sortedcontainers```, o którym szerzej traktuję w sprawozdaniu."
   ]
  },
  {
   "cell_type": "markdown",
   "metadata": {},
   "source": [
    "---\n",
    "W pierwszym sformułowaniu problemu nie potrzebuję korzystać \"w pełni\" ze struktury zdarzeń - wystarczy, że zostanie znalezione jedno przecięcie dla pewnej pary odcinków. Zatem po wykryciu zdarzenia polegającego na przecięciu dwóch odcinków, nie dodaję go do struktury zdarzeń - zwracam informację, że wykryto co najmniej jedno przecięcie. Jako struktury zdarzeń jak i struktury stanu używam wspomnianego ```SortedSet```."
   ]
  },
  {
   "cell_type": "markdown",
   "metadata": {},
   "source": [
    "Aby móc porównywać współrzędne y-owe punktów należących do odcinków dla danej współrzędnej x-owej, wykorzystuję pomocnicze klasy ```Point``` oraz ```Section```, reprezentujące kolejno punkt oraz odcinek. Wymaga tego specyfika ```SortedSet``` - próba użycia \"dynamicznego\" komparatora obliczającego wartość dla danej współrzędnej x-owej na podstawie równania odcinka łamie kontrakt niezmienności klucza, po którym porównujemy dane. Użycie pola statycznego klasy działa podobnie, w pożądany sposób, ale tego kontraktu nie łamie."
   ]
  },
  {
   "cell_type": "code",
   "execution_count": null,
   "metadata": {},
   "outputs": [],
   "source": [
    "class Point:\n",
    "    def __init__(self,x,y):\n",
    "        self.x=x #współrzędna x-owa\n",
    "        self.y=y #współrzędna y-owa\n",
    "        \n",
    "    def __eq__(self,other): #przeciążenie operatora (==)\n",
    "        return self.x==other.x and self.y==other.y\n",
    "    \n",
    "    def __gt__(self,other): #przeciążenie operatora (>)\n",
    "        return self.x>other.x\n",
    "    \n",
    "    def __hash__(self):\n",
    "        return hash((self.x,self.y))\n",
    "    \n",
    "class Section:\n",
    "    def __init__(self,L,R):\n",
    "        self.L=L #lewy koniec odcinka\n",
    "        self.R=R #prawy koniec odcinka\n",
    "        self.a=(self.L.y-self.R.y)/(self.L.x-self.R.x) #współczynnik nachylenia\n",
    "        self.b=self.L.y-self.a*self.L.x #wyraz wolny\n",
    "        self.x=L.x\n",
    "        \n",
    "    def update_x(x): #metoda statyczna (pole wspólne dla klasy)\n",
    "        Section.x=x\n",
    "        \n",
    "    def __eq__(self,other):\n",
    "        return (self.L==other.L and self.R==other.R)\n",
    "    \n",
    "    def __gt__(self,other):\n",
    "        return self.a*Section.x+self.b>other.a*Section.x+other.b\n",
    "    \n",
    "    def __hash__(self):\n",
    "        return hash((self.L,self.R))"
   ]
  },
  {
   "cell_type": "markdown",
   "metadata": {},
   "source": [
    "<span style=\"color:red\">Ćw.</span> Uzupełnij funkcję ```is_intersection```."
   ]
  },
  {
   "cell_type": "code",
   "execution_count": null,
   "metadata": {},
   "outputs": [],
   "source": [
    "def is_intersection(sections):\n",
    "    \"\"\"\n",
    "    Funkcja sprawdza, czy jakakolwiek para podanych odcinków się przecina \n",
    "    :param sections: tablica odcinków w postaci krotek zawierających krotki współrzędnych końców odcinków\n",
    "    :return: wartość typu Bool: True jeśli jakakolwiek para odcinków się przecina, False w przeciwnym razie\n",
    "    \"\"\" \n",
    "    T=SortedSet()\n",
    "    Q=SortedSet()\n",
    "    n=len(sections)\n",
    "    checked_pairs=set()\n",
    "    class_sections=[]\n",
    "    \n",
    "    for i in range(n):\n",
    "        l=Point(sections[i][0][0],sections[i][0][1])\n",
    "        r=Point(sections[i][1][0],sections[i][1][1])\n",
    "        class_sections.append(Section(l,r))\n",
    "        Q.add((l,'l',i))\n",
    "        Q.add((r,'r',i))    \n",
    "    while len(Q)>0:\n",
    "        event=Q.pop(0)\n",
    "        Section.update_x(event[0].x)\n",
    "        new_neighbours=[]\n",
    "        if event[1]=='l':\n",
    "            T.add((class_sections[event[2]],event[2]))\n",
    "            index=T.index((class_sections[event[2]],event[2]))\n",
    "            if index>0:\n",
    "                s_one=T[index-1][1]\n",
    "                index_one,index_two=min(s_one,event[2]),max(s_one,event[2])\n",
    "                if not (index_one,index_two) in checked_pairs:\n",
    "                    checked_pairs.add((index_one,index_two))\n",
    "                    new_neighbours.append((index_one,index_two))\n",
    "            if index<len(T)-1:\n",
    "                s_two=T[index+1][1]\n",
    "                index_one,index_two=min(s_two,event[2]),max(s_two,event[2])\n",
    "                if not (index_one,index_two) in checked_pairs:\n",
    "                    checked_pairs.add((index_one,index_two))\n",
    "                    new_neighbours.append((index_one,index_two))\n",
    "        else:\n",
    "            index=T.index((class_sections[event[2]],event[2]))\n",
    "            if index>0 and index<len(T)-1:\n",
    "                s_one=T[index-1][1]\n",
    "                s_two=T[index+1][1]\n",
    "                index_one,index_two=min(s_one,s_two),max(s_one,s_two)\n",
    "                if not (index_one,index_two) in checked_pairs:\n",
    "                    checked_pairs.add((index_one,index_two))\n",
    "                    new_neighbours.append((index_one,index_two))\n",
    "            del T[index]\n",
    "        for (s_one,s_two) in new_neighbours:\n",
    "            if intersects(class_sections[s_one],class_sections[s_two]):\n",
    "                return True\n",
    "    return False"
   ]
  },
  {
   "cell_type": "markdown",
   "metadata": {},
   "source": [
    "Poniżej funkcja ```intersects``` - funkcja pomocnicza do ```is_intersection```. Będzie one także wykorzystywana w dalszej części programu, w funkcjach dopasowanych do innej wersji rozważanego problemu."
   ]
  },
  {
   "cell_type": "code",
   "execution_count": null,
   "metadata": {},
   "outputs": [],
   "source": [
    "def intersects(section_one,section_two):\n",
    "    \"\"\"\n",
    "    Funkcja sprawdza, czy podane odcinki się przecinają\n",
    "    :param section_one: pierwszy sprawdzany odcinek\n",
    "    :param section_two: drugi sprawdzany odcinek\n",
    "    :return: współrzędne punktu przecięcia - jeżeli odcinki się przecinają, None w przeciwnym razie\n",
    "    \"\"\"\n",
    "    (a_one,b_one)=section_one.a,section_one.b\n",
    "    (a_two,b_two)=section_two.a,section_two.b\n",
    "    (l_one,u_one)=section_one.L.x,section_one.R.x\n",
    "    (l_two,u_two)=section_two.L.x,section_two.R.x\n",
    "    \n",
    "    if a_one==a_two:\n",
    "        return None\n",
    "    x=(b_two-b_one)/(a_one-a_two)\n",
    "    if max(l_one,l_two)<x<min(u_one,u_two):\n",
    "        y=a_two*x+b_two\n",
    "        return (x,y)\n",
    "    return None"
   ]
  },
  {
   "cell_type": "markdown",
   "metadata": {},
   "source": [
    "W testowaniu funkcji będą używane zbiory odcinków przygotowane przez koło naukowe AGH Bit. Poniższe zbiory odcinków zostały wybrane przeze mnie (dodatkowo uwzględniam zbiór odcinków zadany interaktywnie oraz zbiór odcinków wygenerowany przy użyciu funkcji ```generate_uniform_sections```). Będą one użyte przy wizualizacji działaniu algorytmów, także w drugim sformułowaniu problemu - znalezienie wszystkich przecięć odcinków w danym zbiorze odcinków."
   ]
  },
  {
   "cell_type": "code",
   "execution_count": null,
   "metadata": {},
   "outputs": [],
   "source": [
    "sections_one=[((0.11160925733331661,0.29566077245230327),(1.7254225819790243,1.790774778966961)),\n",
    "              ((0.11449622213590283,1.6818869241507675),(1.7600661596100593,0.1993369008841321)),\n",
    "              ((0.489801646472114,1.7782107957189388),(0.5966193441678048,0.09463704048394597)),\n",
    "              ((0.12893104614883405,0.5008724988366682),(1.6041700602704023,0.6265123313168915)),\n",
    "              ((0.35700126555314693,0.21190088413215444),(0.8968636836367738,1.6651349464867378)),\n",
    "              ((0.21842695502900744,1.4180432759422985),(1.5464307642186776,1.4180432759422985)),\n",
    "              ((0.7496284787048755,1.6609469520707303),(1.396308594484193,0.9615518845974872))]\n",
    "\n",
    "sections_two=[((0.4551580688410791,0.1909609120521172),(1.6070570250729885,1.8703466728711027)),\n",
    "              ((0.23574874384452493,1.7363308515588642),(1.7023268635583344,1.4557352256863656)),\n",
    "              ((0.8622201060057388,1.949918566775244),(1.2577342839600536,1.7698348068869239)),\n",
    "              ((0.29926196950142214,1.2965914378780825),(1.731196511584197,0.660016286644951)),\n",
    "              ((0.06541782049193678,0.8777919962773383),(0.5042364704850452,0.9866798510935318)),\n",
    "              ((0.18667034220055884,0.6474523033969287),(1.1740123046850528,0.26634481154025125)),\n",
    "              ((1.0556467477790168,0.6432643089809212),(1.503126292179884,0.5218124709167054))]\n",
    "\n",
    "sections_three=[((0.25884446226521485,0.18677291763610973),(1.719648652373852,0.22027687296416928)),\n",
    "                ((0.32235768792211206,1.4054792926942763),(0.5821845201548737,0.4296765937645416)),\n",
    "                ((0.755402408310048,0.358480688692415),(1.7889358076359216,1.0620637505816657)),\n",
    "                ((0.12893104614883405,0.7437761749651),(0.3483403711453883,0.7395881805490925)),\n",
    "                ((0.20110516621349006,1.6525709632387156),(0.9084115428471187,1.928978594695207)),\n",
    "                ((0.6428107810091847,1.459923220102373),(1.84378813888506,1.2212075383899486)),\n",
    "                ((1.1826731990928114,1.4515472312703581),(1.5550916586264363,1.8368427175430428)), \n",
    "                ((0.5157843296953901,1.6441949744067006),(0.9141854724522911,1.6400069799906931)),\n",
    "                ((1.3905346648790207,0.5678804094927873),(1.8206924204643704,0.37104467194043733))]\n",
    "\n",
    "sections_four=[((0.07985264450486795,1.1667636109818518),(0.7958199155462553,0.6223243369008841)),\n",
    "               ((0.1664615885824552,0.48830851558864585),(0.7525154435074617,0.8359120521172637)),\n",
    "               ((0.19533123660831753,0.8065960912052116),(0.21842695502900744,0.8526640297812936)), \n",
    "               ((0.3079228639091809,0.7898441135411819),(0.40319270239452676,0.7647161470451372)),\n",
    "               ((0.18378337739797257,1.3594113541181942),(1.6157179194807474,0.3626686831084225)),\n",
    "               ((0.8824288596238425,0.32078873894834803),(1.8322402796747153,0.7479641693811074)),\n",
    "               ((0.9488290500833261,0.517624476500698),(1.0354379941609133,0.4841205211726384)),\n",
    "               ((1.127820867843673,0.5427524429967426),(1.1826731990928114,0.5720684039087948)), \n",
    "               ((0.5359930833134938,1.422231270358306),(1.6186048842833336,1.0201838064215913)),\n",
    "               ((0.6745673938376333,1.0871917170777103),(1.7398574059919556,1.3971033038622613)),\n",
    "               ((0.7294197250867718,1.1625756165658443),(0.7813850915333241,1.196079571893904)),\n",
    "               ((0.8622201060057388,1.2128315495579338),(0.9517160148859123,1.2212075383899486))]"
   ]
  },
  {
   "cell_type": "markdown",
   "metadata": {},
   "source": [
    "Przetestuj działanie funkcji ```is_intersection```."
   ]
  },
  {
   "cell_type": "code",
   "execution_count": null,
   "metadata": {},
   "outputs": [],
   "source": [
    "Test().runtest(2, is_intersection)"
   ]
  },
  {
   "cell_type": "markdown",
   "metadata": {},
   "source": [
    "Sprawdźmy, czy przygotowane zbiory odcinków zawierają co najmniej jedno przecięcie."
   ]
  },
  {
   "cell_type": "code",
   "execution_count": null,
   "metadata": {},
   "outputs": [],
   "source": [
    "print(is_intersection(sections_one))\n",
    "print(is_intersection(sections_two))\n",
    "print(is_intersection(sections_three))\n",
    "print(is_intersection(sections_four))"
   ]
  },
  {
   "cell_type": "markdown",
   "metadata": {},
   "source": [
    "A co ze zbiorami wygenerowanymi - losowo, jak i interaktywnie?"
   ]
  },
  {
   "cell_type": "code",
   "execution_count": null,
   "metadata": {},
   "outputs": [],
   "source": [
    "print(is_intersection(generated_sections))\n",
    "print(is_intersection(interactive_sections))"
   ]
  },
  {
   "cell_type": "markdown",
   "metadata": {},
   "source": [
    "---\n",
    "<span style=\"color:red\">Ćw.</span> Uzupełnij funkcję ```is_intersection_with_visualization```."
   ]
  },
  {
   "cell_type": "code",
   "execution_count": null,
   "metadata": {},
   "outputs": [],
   "source": [
    "def is_intersection_with_visualization(sections):\n",
    "    \"\"\"\n",
    "    Funkcja sprawdza, czy jakakolwiek para podanych odcinków się przecina; dodatkowo zwraca kolejne kroki w wizualizacji \n",
    "    :param sections: tablica odcinków w postaci krotek zawierających krotki współrzędnych końców odcinków\n",
    "    :return: krotka postaci (wartość typu Bool: True jeśli jakakolwiek para odcinków się przecina, \n",
    "    False w przeciwnym razie; wizualizer przedstawiający kolejne kroki algorytmu)\n",
    "    \"\"\"\n",
    "    T=SortedSet()\n",
    "    Q=SortedSet()\n",
    "    n=len(sections)\n",
    "    checked_pairs=set()\n",
    "    class_sections=[]\n",
    "    vis=Visualizer()\n",
    "    \n",
    "    if n==0:\n",
    "        return False,vis\n",
    "    \n",
    "    vis.add_line_segment(sections)\n",
    "    vis.add_point([sections[i//2][i%2] for i in range(2*n)],color=\"blue\")\n",
    "    for i in range(n):\n",
    "        l=Point(sections[i][0][0],sections[i][0][1])\n",
    "        r=Point(sections[i][1][0],sections[i][1][1])\n",
    "        class_sections.append(Section(l,r))\n",
    "        Q.add((l,'l',i))\n",
    "        Q.add((r,'r',i))\n",
    "    min_y=min([sections[i//2][i%2][0] for i in range(2*n)])\n",
    "    max_y=max([sections[i//2][i%2][0] for i in range(2*n)])\n",
    "    while len(Q)>0:\n",
    "        event=Q.pop(0)\n",
    "        Section.update_x(event[0].x)\n",
    "        broom=vis.add_line(((event[0].x,min_y),(event[0].x,max_y)),color=\"red\")\n",
    "        new_neighbours=[]\n",
    "        if event[1]=='l':\n",
    "            T.add((class_sections[event[2]],event[2]))\n",
    "            vis.add_point((event[0].x,event[0].y),color=\"green\",s=25)\n",
    "            vis.add_line_segment(sections[event[2]],color=\"green\")\n",
    "            vis.add_point(sections[event[2]][1],color=\"green\",s=25)\n",
    "            index=T.index((class_sections[event[2]],event[2]))\n",
    "            if index>0:\n",
    "                s_one=T[index-1][1]\n",
    "                index_one,index_two=min(s_one,event[2]),max(s_one,event[2])\n",
    "                if not (index_one,index_two) in checked_pairs:\n",
    "                    checked_pairs.add((index_one,index_two))\n",
    "                    new_neighbours.append((index_one,index_two))\n",
    "            if index<len(T)-1:\n",
    "                s_two=T[index+1][1]\n",
    "                index_one,index_two=min(s_two,event[2]),max(s_two,event[2])\n",
    "                if not (index_one,index_two) in checked_pairs:\n",
    "                    checked_pairs.add((index_one,index_two))\n",
    "                    new_neighbours.append((index_one,index_two))\n",
    "        else:\n",
    "            index=T.index((class_sections[event[2]],event[2]))\n",
    "            vis.add_point((event[0].x,event[0].y),color=\"brown\",s=25)\n",
    "            vis.add_line_segment(sections[event[2]],color=\"brown\")\n",
    "            vis.add_point(sections[event[2]][0],color=\"brown\",s=25)\n",
    "            if index>0 and index<len(T)-1:\n",
    "                s_one=T[index-1][1]\n",
    "                s_two=T[index+1][1]\n",
    "                index_one,index_two=min(s_one,s_two),max(s_one,s_two)\n",
    "                if not (index_one,index_two) in checked_pairs:\n",
    "                    checked_pairs.add((index_one,index_two))\n",
    "                    new_neighbours.append((index_one,index_two))\n",
    "            del T[index]\n",
    "        for (s_one,s_two) in new_neighbours:\n",
    "            point_one=vis.add_point(sections[s_one][0],color=\"yellow\",s=25)\n",
    "            point_two=vis.add_point(sections[s_one][1],color=\"yellow\",s=25)\n",
    "            section_one=vis.add_line_segment(sections[s_one],color=\"yellow\")\n",
    "            point_three=vis.add_point(sections[s_two][0],color=\"yellow\",s=25)\n",
    "            point_four=vis.add_point(sections[s_two][1],color=\"yellow\",s=25)\n",
    "            section_two=vis.add_line_segment(sections[s_two],color=\"yellow\")\n",
    "            point=intersects(class_sections[s_one],class_sections[s_two])\n",
    "            if point is not None:\n",
    "                vis.add_point(point,color=\"red\",s=35)\n",
    "                return True,vis\n",
    "            vis.remove_figure(point_one)\n",
    "            vis.remove_figure(point_two)\n",
    "            vis.remove_figure(section_one)\n",
    "            vis.remove_figure(point_three)\n",
    "            vis.remove_figure(point_four)\n",
    "            vis.remove_figure(section_two)\n",
    "        vis.remove_figure(broom)\n",
    "    return False,vis"
   ]
  },
  {
   "cell_type": "markdown",
   "metadata": {},
   "source": [
    "Zobaczmy wizualizację kolejnych kroków działania algorytmu. Algorytm bada sąsiednie odcinki przecinane przez miotłę, dopóki nie znajdzie pierwszego przecięcia. Jeżeli w zbiorze nie ma żadnego przecięcia, algorytm bada wszystkie odcinki, ale zwraca pierwszą wartość fałsz, jako że nie ma przecięcia.\n",
    "Konwencja kolorowania odcinków i ich końców (punktów):\n",
    "- kolorem niebieskim zaznaczam odcinki oczekujące\n",
    "- kolorem zielonym wyróżniam odcinki aktywne\n",
    "- kolorem żółtym zaznaczone są odcinki właśnie sprawdzane\n",
    "- kolorem brązowym oznaczam odcinki już przetworzone\n",
    "- kolorem czerwonym zaznaczam miotłę"
   ]
  },
  {
   "cell_type": "code",
   "execution_count": null,
   "metadata": {},
   "outputs": [],
   "source": [
    "vis.clear()\n",
    "bool_value,vis=is_intersection_with_visualization(sections_one)\n",
    "vis.show_gif(interval=200)"
   ]
  },
  {
   "cell_type": "code",
   "execution_count": null,
   "metadata": {},
   "outputs": [],
   "source": [
    "vis.clear()\n",
    "bool_value,vis=is_intersection_with_visualization(sections_two)\n",
    "vis.show_gif(interval=200)"
   ]
  },
  {
   "cell_type": "code",
   "execution_count": null,
   "metadata": {},
   "outputs": [],
   "source": [
    "vis.clear()\n",
    "bool_value,vis=is_intersection_with_visualization(sections_three)\n",
    "vis.show_gif(interval=200)"
   ]
  },
  {
   "cell_type": "code",
   "execution_count": null,
   "metadata": {},
   "outputs": [],
   "source": [
    "vis.clear()\n",
    "bool_value,vis=is_intersection_with_visualization(sections_four)\n",
    "vis.show_gif(interval=200)"
   ]
  },
  {
   "cell_type": "code",
   "execution_count": null,
   "metadata": {},
   "outputs": [],
   "source": [
    "vis.clear()\n",
    "bool_value,vis=is_intersection_with_visualization(generated_sections)\n",
    "vis.show_gif(interval=200)"
   ]
  },
  {
   "cell_type": "code",
   "execution_count": null,
   "metadata": {},
   "outputs": [],
   "source": [
    "vis.clear()\n",
    "bool_value,vis=is_intersection_with_visualization(interactive_sections)\n",
    "vis.show_gif(interval=200)"
   ]
  },
  {
   "cell_type": "markdown",
   "metadata": {},
   "source": [
    "---\n",
    "W drugim sformułowaniu problemu będziemy poszukiwać wszystkich przecięć odcinków w zadanym zbiorze odcinków. Korzystam z tych samych struktur zdarzeń i stanu co w pierwszym podejściu - ```SortedSet```, ale tym razem przy wykryciu zdarzenia polegającego na przecięciu odcinków, dodaję je do struktury zdarzeń."
   ]
  },
  {
   "cell_type": "markdown",
   "metadata": {},
   "source": [
    "<span style=\"color:red\">Ćw.</span> Uzupełnij funkcję ```find_intersections```."
   ]
  },
  {
   "cell_type": "code",
   "execution_count": null,
   "metadata": {},
   "outputs": [],
   "source": [
    "def find_intersections(sections):\n",
    "    \"\"\"\n",
    "    Funkcja znajduje wszystkie przecięcia zadanych odcinków\n",
    "    :param sections: tablica odcinków w postaci krotek współrzędnych punktów końcowych odcinków\n",
    "    :return: tablica punktów przecięć w postaci trzyelementowych krotek, w których pierwszym elementem \n",
    "    są współrzędne danego punktu przecięcia, a drugim i trzecim indeksy odcinków z listy wejściowej, \n",
    "    które się przecinają w tym punkcie, np. [((x1,y1),id1,id2),((x2,y2),id3,id4),...]\n",
    "    Uwaga! W zwracanej tablicy indeksy zaczynają się od 1\n",
    "    \"\"\"   \n",
    "    print(sections)\n",
    "    T=SortedSet()\n",
    "    Q=SortedSet()\n",
    "    n=len(sections)\n",
    "    checked_pairs=set()\n",
    "    class_sections=[]\n",
    "    intersections=[]\n",
    "    \n",
    "    for i in range(n):\n",
    "        l=Point(sections[i][0][0],sections[i][0][1])\n",
    "        r=Point(sections[i][1][0],sections[i][1][1])\n",
    "        class_sections.append(Section(l,r))\n",
    "        Q.add((l,'l',i))\n",
    "        Q.add((r,'r',i))\n",
    "    while len(Q)>0:\n",
    "        event=Q.pop(0)\n",
    "        new_neighbours=[]\n",
    "        if event[1]=='l':\n",
    "            Section.update_x(event[0].x)\n",
    "            T.add((class_sections[event[2]],event[2]))\n",
    "            index=T.index((class_sections[event[2]],event[2]))\n",
    "            if index>0:\n",
    "                s_one=T[index-1][1]\n",
    "                index_one,index_two=min(s_one,event[2]),max(s_one,event[2])\n",
    "                if not (index_one,index_two) in checked_pairs:\n",
    "                    checked_pairs.add((index_one,index_two))\n",
    "                    new_neighbours.append((index_one,index_two))\n",
    "            if index<len(T)-1:\n",
    "                s_two=T[index+1][1]\n",
    "                index_one,index_two=min(s_two,event[2]),max(s_two,event[2])\n",
    "                if not (index_one,index_two) in checked_pairs:\n",
    "                    checked_pairs.add((index_one,index_two))\n",
    "                    new_neighbours.append((index_one,index_two))\n",
    "        elif event[1]=='r':\n",
    "            Section.update_x(event[0].x)\n",
    "            index=T.index((class_sections[event[2]],event[2]))\n",
    "            if index>0 and index<len(T)-1:\n",
    "                s_one=T[index-1][1]\n",
    "                s_two=T[index+1][1]\n",
    "                index_one,index_two=min(s_one,s_two),max(s_one,s_two)\n",
    "                if not (index_one,index_two) in checked_pairs:\n",
    "                    checked_pairs.add((index_one,index_two))\n",
    "                    new_neighbours.append((index_one,index_two))\n",
    "            del T[index]\n",
    "        else:\n",
    "            i_one=T.index((class_sections[event[2]],event[2]))\n",
    "            i_two=T.index((class_sections[event[3]],event[3]))\n",
    "            if i_one>0:\n",
    "                s_two=T[i_one-1][1]\n",
    "                index_one,index_two=min(s_two,event[3]),max(s_two,event[3])\n",
    "                if not (index_one,index_two) in checked_pairs:\n",
    "                    checked_pairs.add((index_one,index_two))\n",
    "                    new_neighbours.append((index_one,index_two))\n",
    "            if i_one<len(T)-1:\n",
    "                s_two=T[i_one+1][1]\n",
    "                index_one,index_two=min(s_two,event[3]),max(s_two,event[3])\n",
    "                if not (index_one,index_two) in checked_pairs:\n",
    "                    checked_pairs.add((index_one,index_two))\n",
    "                    new_neighbours.append((index_one,index_two))\n",
    "            if i_two>0:\n",
    "                s_one=T[i_two-1][1]\n",
    "                index_one,index_two=min(s_one,event[2]),max(s_one,event[2])\n",
    "                if not (index_one,index_two) in checked_pairs:\n",
    "                    checked_pairs.add((index_one,index_two))\n",
    "                    new_neighbours.append((index_one,index_two))\n",
    "            if i_two<len(T)-1:\n",
    "                s_one=T[i_two+1][1]\n",
    "                index_one,index_two=min(s_one,event[2]),max(s_one,event[2])\n",
    "                if not (index_one,index_two) in checked_pairs:\n",
    "                    checked_pairs.add((index_one,index_two))\n",
    "                    new_neighbours.append((index_one,index_two))\n",
    "            if i_one<i_two:\n",
    "                del T[i_two]\n",
    "                del T[i_one]\n",
    "            else:\n",
    "                del T[i_one]\n",
    "                del T[i_two]\n",
    "            Section.update_x(event[0].x+1e-8)\n",
    "            T.add((class_sections[event[2]],event[2]))\n",
    "            T.add((class_sections[event[3]],event[3]))\n",
    "        for (s_one,s_two) in new_neighbours:\n",
    "            point=intersects(class_sections[s_one],class_sections[s_two])\n",
    "            if point is not None:\n",
    "                intersections.append((point,s_one+1,s_two+1))\n",
    "                Q.add((Point(point[0],point[1]),'i',s_one,s_two))\n",
    "    return intersections"
   ]
  },
  {
   "cell_type": "markdown",
   "metadata": {},
   "source": [
    "Przetestuj działanie funkcji ```find_intersections```."
   ]
  },
  {
   "cell_type": "code",
   "execution_count": null,
   "metadata": {},
   "outputs": [],
   "source": [
    "Test().runtest(3,find_intersections)"
   ]
  },
  {
   "cell_type": "markdown",
   "metadata": {},
   "source": [
    "Znajdźmy przecięcia dla testowych zbiorów odcinków."
   ]
  },
  {
   "cell_type": "code",
   "execution_count": null,
   "metadata": {},
   "outputs": [],
   "source": [
    "intersections_one=find_intersections(sections_one)\n",
    "intersections_two=find_intersections(sections_two)\n",
    "intersections_three=find_intersections(sections_three)\n",
    "intersections_four=find_intersections(sections_four)"
   ]
  },
  {
   "cell_type": "markdown",
   "metadata": {},
   "source": [
    "Wyświetlę teraz zbiory odcinków z zaznaczonymi punktami przecięć oraz podam liczbę tychże punktów."
   ]
  },
  {
   "cell_type": "code",
   "execution_count": null,
   "metadata": {},
   "outputs": [],
   "source": [
    "vis.clear()\n",
    "print(len(intersections_one))\n",
    "vis=Visualizer()\n",
    "vis.add_line_segment(sections_one)\n",
    "vis.add_point([sections_one[i//2][i%2] for i in range(2*len(sections_one))])\n",
    "vis.add_point([intersections_one[i][0] for i in range(len(intersections_one))],color=\"red\",s=35)\n",
    "vis.show()"
   ]
  },
  {
   "cell_type": "code",
   "execution_count": null,
   "metadata": {},
   "outputs": [],
   "source": [
    "vis.clear()\n",
    "print(len(intersections_two))\n",
    "vis=Visualizer()\n",
    "vis.add_line_segment(sections_two)\n",
    "vis.add_point([sections_two[i//2][i%2] for i in range(2*len(sections_two))])\n",
    "vis.add_point([intersections_two[i][0] for i in range(len(intersections_two))],color=\"red\",s=35)\n",
    "vis.show()"
   ]
  },
  {
   "cell_type": "code",
   "execution_count": null,
   "metadata": {},
   "outputs": [],
   "source": [
    "vis.clear()\n",
    "print(len(intersections_three))\n",
    "vis=Visualizer()\n",
    "vis.add_line_segment(sections_three)\n",
    "vis.add_point([sections_three[i//2][i%2] for i in range(2*len(sections_three))])\n",
    "vis.add_point([intersections_three[i][0] for i in range(len(intersections_three))],color=\"red\",s=35)\n",
    "vis.show()"
   ]
  },
  {
   "cell_type": "code",
   "execution_count": null,
   "metadata": {},
   "outputs": [],
   "source": [
    "vis.clear()\n",
    "print(len(intersections_four))\n",
    "vis=Visualizer()\n",
    "vis.add_line_segment(sections_four)\n",
    "vis.add_point([sections_four[i//2][i%2] for i in range(2*len(sections_four))])\n",
    "vis.add_point([intersections_four[i][0] for i in range(len(intersections_four))],color=\"red\",s=35)\n",
    "vis.show()"
   ]
  },
  {
   "cell_type": "markdown",
   "metadata": {},
   "source": [
    "Przedstawiam to samo dla wygenerowanych zbiorów odcinków."
   ]
  },
  {
   "cell_type": "code",
   "execution_count": null,
   "metadata": {},
   "outputs": [],
   "source": [
    "generated_intersections=find_intersections(generated_sections)\n",
    "interactive_intersections=find_intersections(interactive_sections)"
   ]
  },
  {
   "cell_type": "code",
   "execution_count": null,
   "metadata": {},
   "outputs": [],
   "source": [
    "vis.clear()\n",
    "print(len(generated_intersections))\n",
    "vis=Visualizer()\n",
    "vis.add_line_segment(generated_sections)\n",
    "vis.add_point([generated_sections[i//2][i%2] for i in range(2*len(generated_sections))])\n",
    "vis.add_point([generated_intersections[i][0] for i in range(len(generated_intersections))],color=\"red\",s=35)\n",
    "vis.show()"
   ]
  },
  {
   "cell_type": "code",
   "execution_count": null,
   "metadata": {},
   "outputs": [],
   "source": [
    "vis.clear()\n",
    "print(len(interactive_intersections))\n",
    "vis=Visualizer()\n",
    "vis.add_line_segment(interactive_sections)\n",
    "vis.add_point([interactive_sections[i//2][i%2] for i in range(2*len(interactive_sections))])\n",
    "vis.add_point([interactive_intersections[i][0] for i in range(len(interactive_intersections))],color=\"red\",s=35)\n",
    "vis.show()"
   ]
  },
  {
   "cell_type": "markdown",
   "metadata": {},
   "source": [
    "---\n",
    "<span style=\"color:red\">Ćw.</span> Uzupełnij funkcję ```find_intersections_with_visualization```."
   ]
  },
  {
   "cell_type": "code",
   "execution_count": null,
   "metadata": {},
   "outputs": [],
   "source": [
    "def find_intersections_with_visualization(sections):\n",
    "    \"\"\"\n",
    "    Funkcja znajduje wszystkie przecięcia zadanych odcinków i dodatkowo zwraca kolejne kroki w wizualizacji \n",
    "    :param sections: tablica odcinków w postaci krotek współrzędnych punktów końcowych odcinków\n",
    "    :return: krotka postaci (tablica punktów przecięć w postaci trzyelementowych krotek,\n",
    "    w których pierwszym elementem są współrzędne danego punktu przecięcia, a drugim i trzecim \n",
    "    indeksy odcinków z listy wejściowej,które się przecinają w tym punkcie,\n",
    "    np. [((x1,y1),id1,id2),((x2,y2),id3,id4),...]; wizualizer przedstawiający kolejne kroki algorytmu)\n",
    "    \"\"\"    \n",
    "    T=SortedSet()\n",
    "    Q=SortedSet()\n",
    "    n=len(sections)\n",
    "    checked_pairs=set()\n",
    "    class_sections=[]\n",
    "    intersections=[]\n",
    "    vis=Visualizer()\n",
    "    \n",
    "    if n==0:\n",
    "        return False,vis\n",
    "    \n",
    "    vis.add_line_segment(sections)\n",
    "    vis.add_point([sections[i//2][i%2] for i in range(2*n)],color=\"blue\")\n",
    "    for i in range(n):\n",
    "        l=Point(sections[i][0][0],sections[i][0][1])\n",
    "        r=Point(sections[i][1][0],sections[i][1][1])\n",
    "        class_sections.append(Section(l,r))\n",
    "        Q.add((l,'l',i))\n",
    "        Q.add((r,'r',i))\n",
    "    min_y=min([sections[i//2][i%2][0] for i in range(2*n)])\n",
    "    max_y=max([sections[i//2][i%2][0] for i in range(2*n)])\n",
    "    while len(Q)>0:\n",
    "        event=Q.pop(0)\n",
    "        broom=vis.add_line(((event[0].x,min_y),(event[0].x,max_y)),color=\"red\")\n",
    "        new_neighbours=[]\n",
    "        if event[1]=='l':\n",
    "            Section.update_x(event[0].x)\n",
    "            T.add((class_sections[event[2]],event[2]))\n",
    "            vis.add_point((event[0].x,event[0].y),color=\"green\",s=25)\n",
    "            vis.add_line_segment(sections[event[2]],color=\"green\")\n",
    "            vis.add_point(sections[event[2]][1],color=\"green\",s=25)\n",
    "            index=T.index((class_sections[event[2]],event[2]))\n",
    "            if index>0:\n",
    "                s_one=T[index-1][1]\n",
    "                index_one,index_two=min(s_one,event[2]),max(s_one,event[2])\n",
    "                if not (index_one,index_two) in checked_pairs:\n",
    "                    checked_pairs.add((index_one,index_two))\n",
    "                    new_neighbours.append((index_one,index_two))\n",
    "            if index<len(T)-1:\n",
    "                s_two=T[index+1][1]\n",
    "                index_one,index_two=min(s_two,event[2]),max(s_two,event[2])\n",
    "                if not (index_one,index_two) in checked_pairs:\n",
    "                    checked_pairs.add((index_one,index_two))\n",
    "                    new_neighbours.append((index_one,index_two))\n",
    "        elif event[1]=='r':\n",
    "            Section.update_x(event[0].x)\n",
    "            index=T.index((class_sections[event[2]],event[2]))\n",
    "            vis.add_point((event[0].x,event[0].y),color=\"brown\",s=25)\n",
    "            vis.add_line_segment(sections[event[2]],color=\"brown\")\n",
    "            vis.add_point(sections[event[2]][0],color=\"brown\",s=25)\n",
    "            if index>0 and index<len(T)-1:\n",
    "                s_one=T[index-1][1]\n",
    "                s_two=T[index+1][1]\n",
    "                index_one,index_two=min(s_one,s_two),max(s_one,s_two)\n",
    "                if not (index_one,index_two) in checked_pairs:\n",
    "                    checked_pairs.add((index_one,index_two))\n",
    "                    new_neighbours.append((index_one,index_two))\n",
    "            del T[index]\n",
    "        else:\n",
    "            i_one=T.index((class_sections[event[2]],event[2]))\n",
    "            i_two=T.index((class_sections[event[3]],event[3]))\n",
    "            if i_one>0:\n",
    "                s_two=T[i_one-1][1]\n",
    "                index_one,index_two=min(s_two,event[3]),max(s_two,event[3])\n",
    "                if not (index_one,index_two) in checked_pairs:\n",
    "                    checked_pairs.add((index_one,index_two))\n",
    "                    new_neighbours.append((index_one,index_two))\n",
    "            if i_one<len(T)-1:\n",
    "                s_two=T[i_one+1][1]\n",
    "                index_one,index_two=min(s_two,event[3]),max(s_two,event[3])\n",
    "                if not (index_one,index_two) in checked_pairs:\n",
    "                    checked_pairs.add((index_one,index_two))\n",
    "                    new_neighbours.append((index_one,index_two))\n",
    "            if i_two>0:\n",
    "                s_one=T[i_two-1][1]\n",
    "                index_one,index_two=min(s_one,event[2]),max(s_one,event[2])\n",
    "                if not (index_one,index_two) in checked_pairs:\n",
    "                    checked_pairs.add((index_one,index_two))\n",
    "                    new_neighbours.append((index_one,index_two))\n",
    "            if i_two<len(T)-1:\n",
    "                s_one=T[i_two+1][1]\n",
    "                index_one,index_two=min(s_one,event[2]),max(s_one,event[2])\n",
    "                if not (index_one,index_two) in checked_pairs:\n",
    "                    checked_pairs.add((index_one,index_two))\n",
    "                    new_neighbours.append((index_one,index_two))\n",
    "            if i_one<i_two:\n",
    "                del T[i_two]\n",
    "                del T[i_one]\n",
    "            else:\n",
    "                del T[i_one]\n",
    "                del T[i_two]\n",
    "            Section.update_x(event[0].x+1e-8)\n",
    "            T.add((class_sections[event[2]],event[2]))\n",
    "            T.add((class_sections[event[3]],event[3]))\n",
    "        for (s_one,s_two) in new_neighbours:\n",
    "            point_one=vis.add_point(sections[s_one][0],color=\"yellow\",s=25)\n",
    "            point_two=vis.add_point(sections[s_one][1],color=\"yellow\",s=25)\n",
    "            section_one=vis.add_line_segment(sections[s_one],color=\"yellow\")\n",
    "            point_three=vis.add_point(sections[s_two][0],color=\"yellow\",s=25)\n",
    "            point_four=vis.add_point(sections[s_two][1],color=\"yellow\",s=25)\n",
    "            section_two=vis.add_line_segment(sections[s_two],color=\"yellow\")\n",
    "            point=intersects(class_sections[s_one],class_sections[s_two])\n",
    "            if point is not None:\n",
    "                vis.add_point(point,color=\"red\",s=35)\n",
    "                intersections.append((point,s_one+1,s_two+1))\n",
    "                Q.add((Point(point[0],point[1]),'i',s_one,s_two))\n",
    "            vis.remove_figure(point_one)\n",
    "            vis.remove_figure(point_two)\n",
    "            vis.remove_figure(section_one)\n",
    "            vis.remove_figure(point_three)\n",
    "            vis.remove_figure(point_four)\n",
    "            vis.remove_figure(section_two)\n",
    "        vis.remove_figure(broom)\n",
    "    return intersections,vis"
   ]
  },
  {
   "cell_type": "markdown",
   "metadata": {},
   "source": [
    "Zobaczmy wizualizację kolejnych kroków działania algorytmu znajdowania wszystkich przecięć. Algorytm bada sąsiednie odcinki przecinane przez miotłę, zaznaczając je zgodnie z przyjętą konwencją kolorystyczną."
   ]
  },
  {
   "cell_type": "code",
   "execution_count": null,
   "metadata": {},
   "outputs": [],
   "source": [
    "vis.clear()\n",
    "intersections,vis=find_intersections_with_visualization(sections_one)\n",
    "vis.show_gif(interval=200)"
   ]
  },
  {
   "cell_type": "code",
   "execution_count": null,
   "metadata": {},
   "outputs": [],
   "source": [
    "vis.clear()\n",
    "intersections,vis=find_intersections_with_visualization(sections_two)\n",
    "vis.show_gif(interval=200)"
   ]
  },
  {
   "cell_type": "code",
   "execution_count": null,
   "metadata": {},
   "outputs": [],
   "source": [
    "vis.clear()\n",
    "intersections,vis=find_intersections_with_visualization(sections_three)\n",
    "vis.show_gif(interval=200)"
   ]
  },
  {
   "cell_type": "code",
   "execution_count": null,
   "metadata": {},
   "outputs": [],
   "source": [
    "vis.clear()\n",
    "intersections,vis=find_intersections_with_visualization(sections_four)\n",
    "vis.show_gif(interval=200)"
   ]
  },
  {
   "cell_type": "code",
   "execution_count": null,
   "metadata": {},
   "outputs": [],
   "source": [
    "vis.clear()\n",
    "intersections,vis=find_intersections_with_visualization(generated_sections)\n",
    "vis.show_gif(interval=200)"
   ]
  },
  {
   "cell_type": "code",
   "execution_count": null,
   "metadata": {},
   "outputs": [],
   "source": [
    "vis.clear()\n",
    "intersections,vis=find_intersections_with_visualization(interactive_sections)\n",
    "vis.show_gif(interval=200)"
   ]
  },
  {
   "cell_type": "markdown",
   "metadata": {},
   "source": [
    "### Czy konieczne były zmiany w strukturze zdarzeń. Jeśli tak, to jakie? Czy w przypadku obu algorytmów konieczne są takie same struktury zdarzeń? Odpowiedź uzasadnij. "
   ]
  },
  {
   "cell_type": "markdown",
   "metadata": {},
   "source": [
    "W przypadku zastosowanego przeze mnie podejścia nie były konieczne zmiany w strukturze zdarzeń, ale przez to, że w pierwszej wersji problemu wystarczy znaleźć jedno przecięcie, jest możliwe użycie innej struktury zdarzeń. Jako że i tak należy umieścić początki i końce odcinków w strukturze $Q$, zdecydowałem się użyć docelowej formy tej struktury - wydaje mi się, że niezależnie od tego, rząd złożoności byłby taki sam, bo np. można użyć wbudowanej listy, ale wtedy należy ją posortować - złożoność czasowa $O$(nlogn). "
   ]
  },
  {
   "cell_type": "markdown",
   "metadata": {},
   "source": [
    "### Jak obsługiwane są zdarzenia początku odcinka, końca odcinka i przecięcia odcinków z uwzględnianiem wybranych struktur danych?"
   ]
  },
  {
   "cell_type": "markdown",
   "metadata": {},
   "source": [
    "Przy dodawaniu zdarzeń do struktury zdarzeń $Q$ jednym z elementów jest \"kod\" rodzaju zdarzenia:\n",
    "- $l$ oznacza, że trafiamy na lewy koniec odcinka -> odcinek jest dodawany do struktury stanu $T$, przy czym dla tej struktury kluczem do porównania jest współrzędna y-owa punktu należącego do odcinka dla danej współrzędnej x-owej\n",
    "- $r$ oznacza, że trafiamy na prawy koniec odcinka -> usuwamy odcinek ze struktury stanu $T$\n",
    "- $i$ oznacza, że trafiliśmy na punkt przecięcia pewnych odcinków -> zamieniamy te odcinki miejscami w strukturze stanu"
   ]
  },
  {
   "cell_type": "markdown",
   "metadata": {},
   "source": [
    "W każdym przypadku sprawdzamy nowych sąsiadów wśród odcinków, badając potencjalne przecięcia."
   ]
  },
  {
   "cell_type": "markdown",
   "metadata": {},
   "source": [
    "### Samemu zaprojektuj test, który uwzględnia taki układ odcinków, przy którym pewne przecięcia będą wykrywane więcej niż jeden raz"
   ]
  },
  {
   "cell_type": "code",
   "execution_count": null,
   "metadata": {},
   "outputs": [],
   "source": [
    "vis.clear()\n",
    "testing_sections=[((1,5),(6,1)),((0,0),(6.5,3)),((1.3,2.6),(2,3.5)),((3,2.2),(4,2))]\n",
    "intersections,vis=find_intersections_with_visualization(testing_sections)\n",
    "vis.show_gif(interval=200)"
   ]
  },
  {
   "cell_type": "markdown",
   "metadata": {},
   "source": [
    "Badany zbiór odcinków nr 4 (```sections_four```) również bada taką sytuację."
   ]
  },
  {
   "cell_type": "markdown",
   "metadata": {},
   "source": [
    "### Czy Twój program uwzględnia powyższy przypadek? Jeśli tak, to jak? "
   ]
  },
  {
   "cell_type": "markdown",
   "metadata": {},
   "source": [
    "Owszem, mój program uwzględnia taki przypadek poprzez korzystanie ze zbioru (```set()```), w którym zapisuje pary indeksów odcinków, dla których już było badane sprawdzenie przecięcia. W trakcie przebiegu algorytmu ułożenie odcinków w strukturze stanu (i ich wewnętrzne indeksy w tej strukturze) może wielokrotnie ulegać zmianom, ale ich indeksy w tablicy wejściowej są niezmienne. Dzięki zapamiętywaniu badanych par odcinków, nie badam ani nie dodaję do struktury zdarzeń danego punktu przecięcia wielokrotnie. Sprawdzanie przynależności do zbioru odbywa się w czasie $O$(1), a złożoność pamięciowa zależy od liczby sprawdzanych par odcinków - pesymistycznie $O$(n<sup>2</sup>)."
   ]
  },
  {
   "cell_type": "markdown",
   "metadata": {},
   "source": [
    "---"
   ]
  }
 ],
 "metadata": {
  "kernelspec": {
   "display_name": "Python 3 (ipykernel)",
   "language": "python",
   "name": "python3"
  },
  "language_info": {
   "codemirror_mode": {
    "name": "ipython",
    "version": 3
   },
   "file_extension": ".py",
   "mimetype": "text/x-python",
   "name": "python",
   "nbconvert_exporter": "python",
   "pygments_lexer": "ipython3",
   "version": "3.9.18"
  }
 },
 "nbformat": 4,
 "nbformat_minor": 2
}
