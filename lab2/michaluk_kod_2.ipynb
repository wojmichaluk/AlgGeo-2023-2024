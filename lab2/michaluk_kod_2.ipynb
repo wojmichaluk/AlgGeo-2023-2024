{
 "cells": [
  {
   "cell_type": "markdown",
   "metadata": {},
   "source": [
    "# Otoczka wypukła"
   ]
  },
  {
   "cell_type": "code",
   "execution_count": null,
   "metadata": {},
   "outputs": [],
   "source": [
    "import numpy as np\n",
    "import pandas as pd\n",
    "from bitalg.tests.test2 import Test\n",
    "from bitalg.visualizer.main import Visualizer"
   ]
  },
  {
   "cell_type": "markdown",
   "metadata": {},
   "source": [
    "### Przykładowe zastosowanie narzędzia do wizualizacji"
   ]
  },
  {
   "cell_type": "code",
   "execution_count": null,
   "metadata": {},
   "outputs": [],
   "source": [
    "def draw_example_1():\n",
    "    vis = Visualizer()\n",
    "    # point = (x, y)\n",
    "    points = [\n",
    "        (-62.781083483620016, 9.295526540248986),\n",
    "        (-10.543100198806997, -26.080520917553812),\n",
    "        (-81.64932184252287, -74.42163273030921),\n",
    "        (-36.297317058417946, -72.91194239793609),\n",
    "        (37.795092197502356, 57.71110085986143),\n",
    "        (62.511149567563905, -29.172821102708937),\n",
    "        (21.82806671019955, 2.647377124715007),\n",
    "        (-46.24539555503924, 42.65521594922478),\n",
    "        (-77.92302295134137, -7.666110427206263),\n",
    "        (25.85862324263843, 62.49564419388622),\n",
    "        (-27.71649622636616, -67.33453457840331),\n",
    "        (94.83039177581244, -55.52473300629532),\n",
    "        (-26.29675918891381, -51.30150933048958),\n",
    "        (-70.11654929355294, 16.723865705806816),\n",
    "        (26.682887992598097, -65.55763984116587),\n",
    "        (57.03377667841906, -55.56635171240132),\n",
    "        (-16.053624841650247, -42.333295668531456),\n",
    "        (-56.810858686395505, -37.41219002465095),\n",
    "        (15.604076302407279, -24.85779870929437),\n",
    "        (-71.77261869976445, -12.306083264402673),\n",
    "    ]\n",
    "    # line_segment = ((x1, y1), (x2, y2))\n",
    "    line_segments = [\n",
    "        ((-81.64932184252287, -74.42163273030921), (-36.297317058417946, -72.91194239793609)),\n",
    "        ((-36.297317058417946, -72.91194239793609), (26.682887992598097, -65.55763984116587)),\n",
    "        ((26.682887992598097, -65.55763984116587), (94.83039177581244, -55.52473300629532)),\n",
    "        ((94.83039177581244, -55.52473300629532), (37.795092197502356, 57.71110085986143)),\n",
    "        ((37.795092197502356, 57.71110085986143), (25.85862324263843, 62.49564419388622)),\n",
    "        ((25.85862324263843, 62.49564419388622), (-46.24539555503924, 42.65521594922478)),\n",
    "        ((-46.24539555503924, 42.65521594922478), (-70.11654929355294, 16.723865705806816)),\n",
    "        ((-70.11654929355294, 16.723865705806816), (-77.92302295134137, -7.666110427206263)),\n",
    "        ((-77.92302295134137, -7.666110427206263), (-81.64932184252287, -74.42163273030921)),\n",
    "    ]\n",
    "    vis.add_point(points, color=\"green\")\n",
    "    vis.add_line_segment(line_segments, color=\"blue\")\n",
    "    vis.show()"
   ]
  },
  {
   "cell_type": "code",
   "execution_count": null,
   "metadata": {},
   "outputs": [],
   "source": [
    "draw_example_1()"
   ]
  },
  {
   "cell_type": "markdown",
   "metadata": {},
   "source": [
    "### Wprowadzenie"
   ]
  },
  {
   "cell_type": "markdown",
   "metadata": {},
   "source": [
    "Czym jest otoczka wypukła?  \n",
    "Podzbiór płaszczyzny $Q$ nazywamy wypukłym wtedy i tylko wtedy, gdy dla dowolnej pary punktów $p, q \\in Q$ odcinek $\\overline{pq}$ jest całkowicie zawarty w $Q$.  \n",
    "Otoczka wypukła $\\mathcal{CH}(Q)$ zbioru $Q$ jest najmniejszym wypukłym zbiorem zawierającym $Q$."
   ]
  },
  {
   "cell_type": "markdown",
   "metadata": {},
   "source": [
    "### Zastosowania otoczki wypukłej"
   ]
  },
  {
   "cell_type": "markdown",
   "metadata": {},
   "source": [
    "Otoczki wypukłe - w szczególności otoczki wypukłe w przestrzeni trójwymiarowej - są spotykane w różnych zastosowaniach. Na przykład używa się ich do przyspieszania wykrywania kolizji w animacji komputerowej. Przypuśćmy, że chcemy sprawdzić, czy dwa obiekty $\\mathcal{P_1}$ i $\\mathcal{P_2}$ przecinają się. Jeśli przez większość czasu odpowiedź na to pytanie jest negatywna, to opłaca się następująca strategia. Przybliżamy obiekty przez prostsze obiekty $\\widehat{\\mathcal{P_1}}$ i $\\widehat{\\mathcal{P_2}}$, które zawierały oryginały. Jeśli chcemy sprawdzić, czy $\\mathcal{P_1}$ i $\\mathcal{P_2}$ przecinają się, najpierw sprawdzamy, czy przecinają się $\\widehat{\\mathcal{P_1}}$ i $\\widehat{\\mathcal{P_2}}$. Jeśli występuje ten przypadek, to powinniśmy wykonać test na oryginalnych obiektach, który jest przypuszczalnie znacznie kosztowniejszy.  \n",
    "Sprawdzanie przecięcia otoczek wypukłych jest bardziej skomplikowane niż dla sfer - choć mimo to łatwiejsze niż dla obiektów niewypukłych - ale otoczki wypukłe mogą dużo lepiej przybliżać większość obiektów."
   ]
  },
  {
   "cell_type": "markdown",
   "metadata": {},
   "source": [
    "## Generowanie losowych punktów na płaszczyźnie "
   ]
  },
  {
   "cell_type": "code",
   "execution_count": null,
   "metadata": {},
   "outputs": [],
   "source": [
    "def generate_uniform_points(left=-100, right=100, n=100):\n",
    "    \"\"\"\n",
    "    Funkcja generuje równomiernie n punktów na kwadratowym obszarze od left do right (jednakowo na osi y) o współrzędnych rzeczywistych\n",
    "    :param left: lewy kraniec przedziału\n",
    "    :param right: prawy kraniec przedziału\n",
    "    :param n: ilość generowanych punktów\n",
    "    :return: tablica punktów w postaci krotek współrzędnych, np. [(x1, y1), (x2, y2), ... (xn, yn)]\n",
    "    \"\"\"\n",
    "    tab=[(np.random.uniform(left,right),np.random.uniform(left,right)) for _ in range(n)]\n",
    "    return tab"
   ]
  },
  {
   "cell_type": "markdown",
   "metadata": {},
   "source": [
    "<span style=\"color:red\">Ćw.</span> Wygeneruj $100$ losowych punktów w przestrzeni 2D o współrzędnych z przedziału $\\langle -100,100\\rangle$."
   ]
  },
  {
   "cell_type": "code",
   "execution_count": null,
   "metadata": {},
   "outputs": [],
   "source": [
    "points_a = generate_uniform_points(-100, 100, 100)"
   ]
  },
  {
   "cell_type": "markdown",
   "metadata": {},
   "source": [
    "Zwizualizuj wygenerowane punkty."
   ]
  },
  {
   "cell_type": "code",
   "execution_count": null,
   "metadata": {},
   "outputs": [],
   "source": [
    "vis = Visualizer()\n",
    "vis.add_point(points_a)\n",
    "vis.show()"
   ]
  },
  {
   "cell_type": "code",
   "execution_count": null,
   "metadata": {},
   "outputs": [],
   "source": [
    "def generate_circle_points(O, R, n=100):\n",
    "    \"\"\"\n",
    "    Funkcja generuje jednostajnie n punktów na okręgu o środku O i promieniu R\n",
    "    :param O: krotka współrzędnych x, y określająca środek okręgu\n",
    "    :param R: promień okręgu\n",
    "    :param n: ilość generowanych punktów\n",
    "    :return: tablica punktów w postaci krotek współrzędnych\n",
    "    \"\"\"\n",
    "    tab=[None for _ in range(n)]\n",
    "    for i in range(n):\n",
    "        angle=np.random.random()*2*np.pi\n",
    "        tab[i]=(O[0]+R*np.sin(angle),O[1]+R*np.cos(angle))\n",
    "    return tab"
   ]
  },
  {
   "cell_type": "markdown",
   "metadata": {},
   "source": [
    "<span style=\"color:red\">Ćw.</span> Wygeneruj $100$ losowych punktów w przestrzeni 2D leżących na okręgu o środku $O = (0,0)$ i promieniu $R = 10$."
   ]
  },
  {
   "cell_type": "code",
   "execution_count": null,
   "metadata": {},
   "outputs": [],
   "source": [
    "points_b = generate_circle_points((0, 0), 10, 100)"
   ]
  },
  {
   "cell_type": "markdown",
   "metadata": {},
   "source": [
    "Zwizualizuj wygenerowane punkty."
   ]
  },
  {
   "cell_type": "code",
   "execution_count": null,
   "metadata": {},
   "outputs": [],
   "source": [
    "vis.clear()\n",
    "vis.add_point(points_b)\n",
    "vis.show()"
   ]
  },
  {
   "cell_type": "code",
   "execution_count": null,
   "metadata": {},
   "outputs": [],
   "source": [
    "def generate_rectangle_points(a=(-10, 10), b=(-10, -10), c=(10, -10), d=(10, 10), n=100):\n",
    "    '''\n",
    "    Funkcja generuje n punktów na bokach prostokąta o wierzchołkach w punktach a, b, c i d\n",
    "    :param a: lewy górny wierzchołek prostokąta\n",
    "    :param b: lewy dolny wierzchołek prostokąta\n",
    "    :param c: prawy dolny wierzchołek prostokąta\n",
    "    :param d: prawy górny wierzchołek prostokąta\n",
    "    :param n: ilość generowanych punktów\n",
    "    :return: tablica punktów w postaci krotek współrzędnych\n",
    "    '''\n",
    "    tab=[None for _ in range(n)]\n",
    "    left,right=a[0],c[0]\n",
    "    down,up=c[1],a[1]\n",
    "    height=up-down\n",
    "    width=right-left\n",
    "    max_dist=2*(width+height)\n",
    "    for i in range(n):\n",
    "        dist_from_a_ccw=np.random.random()*max_dist\n",
    "        if 0<=dist_from_a_ccw<height:\n",
    "            x=left\n",
    "            y=up-dist_from_a_ccw\n",
    "        elif height<=dist_from_a_ccw<height+width:\n",
    "            x=left+(dist_from_a_ccw-height)\n",
    "            y=down\n",
    "        elif height+width<=dist_from_a_ccw<2*height+width:\n",
    "            x=right\n",
    "            y=down+(dist_from_a_ccw-height-width)\n",
    "        else:\n",
    "            x=right-(dist_from_a_ccw-2*height-width)\n",
    "            y=up\n",
    "        tab[i]=(x,y)\n",
    "    return tab"
   ]
  },
  {
   "cell_type": "markdown",
   "metadata": {},
   "source": [
    "<span style=\"color:red\">Ćw.</span> Wygeneruj $100$ losowych punktów w przestrzeni 2D leżących na bokach prostokąta o wierzchołkach $(-10,10), (-10,-10), (10,-10)$ oraz $(10,10)$."
   ]
  },
  {
   "cell_type": "code",
   "execution_count": null,
   "metadata": {},
   "outputs": [],
   "source": [
    "points_c = generate_rectangle_points((-10, 10), (-10, -10), (10, -10), (10, 10), 100)"
   ]
  },
  {
   "cell_type": "markdown",
   "metadata": {},
   "source": [
    "Zwizualizuj wygenerowane punkty."
   ]
  },
  {
   "cell_type": "code",
   "execution_count": null,
   "metadata": {},
   "outputs": [],
   "source": [
    "vis.clear()\n",
    "vis.add_point(points_c)\n",
    "vis.show()"
   ]
  },
  {
   "cell_type": "code",
   "execution_count": null,
   "metadata": {},
   "outputs": [],
   "source": [
    "def generate_square_points(a=(0, 0), b=(10, 0), c=(10, 10), d=(0, 10), axis_n=25, diag_n=20):\n",
    "    '''\n",
    "    Funkcja generuje axis_n punktów na dwóch bokach kwadratu leżących na osiach x i y \n",
    "    oraz diag_n punktów na przekątnych kwadratu, który wyznaczają punkty a, b, c i d.\n",
    "    :param a: lewy dolny wierzchołek kwadratu\n",
    "    :param b: prawy dolny wierzchołek kwadratu\n",
    "    :param c: prawy górny wierzchołek kwadratu\n",
    "    :param d: lewy górny wierzchołek kwadratu\n",
    "    :param axis_n: ilość generowanych punktów na każdym z dwóch boków kwadratu leżących na osi x i y\n",
    "    :param diag_n: ilość generowanych punktów na każdej przekątnej kwadratu\n",
    "    :return: tablica punktów w postaci krotek współrzędnych\n",
    "    '''\n",
    "    tab=[]\n",
    "    left,right=a[0],c[0]\n",
    "    down,up=a[1],c[1]\n",
    "    for p in [a,b,c,d]:\n",
    "        tab.append(p)\n",
    "    for i in range(axis_n):\n",
    "        y=np.random.uniform(down,up)\n",
    "        tab.append((left,y))\n",
    "    for i in range(axis_n):\n",
    "        x=np.random.uniform(left,right)\n",
    "        tab.append((x,down))\n",
    "    for i in range(diag_n):\n",
    "        cord=np.random.uniform(left,right)\n",
    "        tab.append((cord,cord))\n",
    "    for i in range(diag_n):\n",
    "        cord=np.random.uniform(left,right)\n",
    "        tab.append((cord,(up-down)-cord))\n",
    "    return tab    "
   ]
  },
  {
   "cell_type": "markdown",
   "metadata": {},
   "source": [
    "<span style=\"color:red\">Ćw.</span> Wygeneruj zbiór losowych punktów w przestrzeni 2D w następujący sposób: po 25 punktów na dwóch bokach kwadratu leżących na osiach i po 20 punktów na przekątnych kwadratu, zawierający także punkty wyznaczające kwadrat $(0, 0), (10, 0), (10, 10)$ oraz $(0, 10)$."
   ]
  },
  {
   "cell_type": "code",
   "execution_count": null,
   "metadata": {},
   "outputs": [],
   "source": [
    "points_d = generate_square_points((0, 0), (10, 0), (10, 10), (0, 10), 25, 20)"
   ]
  },
  {
   "cell_type": "markdown",
   "metadata": {},
   "source": [
    "Zwizualizuj wygenerowane punkty."
   ]
  },
  {
   "cell_type": "code",
   "execution_count": null,
   "metadata": {},
   "outputs": [],
   "source": [
    "vis.clear()\n",
    "vis.add_point(points_d)\n",
    "vis.show()"
   ]
  },
  {
   "cell_type": "markdown",
   "metadata": {},
   "source": [
    "## Algorytm Grahama oraz algorytm Jarvisa"
   ]
  },
  {
   "cell_type": "markdown",
   "metadata": {},
   "source": [
    "Po przygotowaniu przykładowych zbiorów danych i ich zwizualizowaniu, chcemy zobaczyć jak buduje się dla nich otoczka wypukła z wykorzystaniem różnych algorytmów.  \n",
    "W tych dwóch algorytmach potrzebna będzie funkcja którą już dobrze znamy, czyli ta sprawdzająca, po której stronie prostej znajduje się punkt.  \n",
    "Dla każdego algorytmu trzeba będzie zaimplementować dwie funkcje obliczające otoczkę wypukłą, ze względu na to, że jedna z nich będzie miała możliwość wyświetlania kroków postępowania w algorytmie. Druga funkcja będzie użyteczna do porównywania czasów dla różnych zbiorów danych i względem algorytmów.  \n",
    "W wersji \"graficznej\" funkcji danego algorytmu, jednym kolorem będą zaznaczone wszystkie punkty zbioru wyjściowego, drugim kolorem boki aktualne rozpatrywane, a trzecim boki wielokąta otoczki. Po zakończeniu wyznaczania otoczki, wierzchołki otoczki zostaną wyróżnione (osobnym kolorem bądź kształtem).  "
   ]
  },
  {
   "cell_type": "markdown",
   "metadata": {},
   "source": [
    "### Algorytm Grahama"
   ]
  },
  {
   "cell_type": "markdown",
   "metadata": {},
   "source": [
    "Algorytm Grahama tworzy otoczkę wypukłą poprzez utrzymywanie stosu $S$, w którym znajdują się punkty, które mogą, ale nie muszą tworzyć otoczki wypukłej. Za każdym razem jest wstawiany na stos (push) jeden punkt ze zbioru punktów $Q$ i jest on usuwany ze stosu (pop), jeżeli nie jest punktem $\\mathcal{CH}(Q)$. Kiedy algorytm kończy się, stos $S$ zawiera tylko punkty otoczki wypukłej $\\mathcal{CH}(Q)$ w kierunku przeciwnym do ruchu wskazówek zegara.\n",
    "\n",
    "---\n",
    "\n",
    "Procedura $\\mathtt{Graham-Build(Q)}$ przyjmuje zbiór punktów $Q$, gdzie $|Q| \\geq 3$. Wywołuje ona funkcję $\\mathtt{TOP(S)}$, która zwraca punkt z góry stosu bez zmieniania $S$ oraz\n",
    "$\\mathtt{NEXT-TO-TOP(S)}$, która zwraca punkt poniżej góry stosu $S$, bez zmieniania stosu. Funkcja $\\mathtt{PUSH(p, S)}$ wstawia punkt $p$ na stos $S$. Funkcja $\\mathtt{POP(S)}$ usuwa punkt z wierzchołka stosu $S$."
   ]
  },
  {
   "cell_type": "markdown",
   "metadata": {},
   "source": [
    "$\\mathtt{Graham-Build(Q)}$  \n",
    "1)  niech $p_0$ będzie punktem w zbiorze Q z najmniejszą współrzędną $y$  \n",
    "    oraz najmniejszą współrzędną $x$ w przypadku, gdy wiele punktów ma tę samą współrzędną $y$  \n",
    "    \n",
    "2)  niech $\\mathtt{\\langle p_1, p_2, \\dots, p_m \\rangle}$ będzie pozostałym zbiorem punktów w $Q$, posortowanym  \n",
    "    przeciwnie do ruchu wskazówek zegara wokół punktu $p_0$  \n",
    "    (jeżeli więcej niż jeden punkt ma ten sam kąt, to usuwamy wszystkie punkty  \n",
    "     z wyjątkiem tego najbardziej oddalonego od $p_0$)  \n",
    "3) stwórz pusty stos $S$  \n",
    "4) $\\mathtt{PUSH(p_0, S)}$\n",
    "5) $\\mathtt{PUSH(p_1, S)}$\n",
    "6) $\\mathtt{PUSH(p_2, S)}$\n",
    "7) **for** $i = 3$ **to** m  \n",
    "8) &emsp;**while** kąt utworzony przez $\\mathtt{NEXT-TO-TOP(S)}$, $\\mathtt{TOP(S)}$ oraz $p_i$ tworzy lewostronny skręt\n",
    "9) &emsp;&emsp;$\\mathtt{POP(S)}$\n",
    "10) &emsp;$\\mathtt{PUSH(p_i, S)}$\n",
    "11) **return** $S$"
   ]
  },
  {
   "cell_type": "markdown",
   "metadata": {},
   "source": [
    "\n",
    "---\n",
    "\n",
    "Lewostronny skręt oznacza, że dla trzech kolejnych punktów $a, b, c$, punkt $b$ leży po lewej stronie prostej $ac$.\n",
    "Do sprawdzania \"lewoskrętności\" używam wyznacznika macierzy 3x3, na podstawie poprzedniego laboratorium."
   ]
  },
  {
   "cell_type": "code",
   "execution_count": null,
   "metadata": {},
   "outputs": [],
   "source": [
    "def mat_det_3x3(a, b, c):\n",
    "    \"\"\"\n",
    "    Funkcja oblicza wyznacznik macierzy 3x3 (bez użycia funkcji bibliotecznych)\n",
    "    :param a: krotka współrzędnych (x, y) punktu poniżej góry stosu\n",
    "    :param b: krotka współrzędnych (x, y) punktu na górze stosu\n",
    "    :param c: krotka współrzędnych (x, y) punktu, dla którego badamy lewostronny skręt\n",
    "    :return: wartość odpowiedniego wyznacznika macierzy\n",
    "    Uwaga! W porównaniu do wyznacznika z labortorium pierwszego, punkty b i c są zamienione miejscami\n",
    "    \"\"\"\n",
    "    return a[0]*c[1]+a[1]*b[0]+c[0]*b[1]-c[1]*b[0]-a[0]*b[1]-a[1]*c[0]"
   ]
  },
  {
   "cell_type": "markdown",
   "metadata": {},
   "source": [
    "Poniżej funkcje pomocnicze do algorytmu Grahama."
   ]
  },
  {
   "cell_type": "code",
   "execution_count": null,
   "metadata": {},
   "outputs": [],
   "source": [
    "def find_min_y(Q):\n",
    "    \"\"\"\n",
    "    Funkcja znajduje punkt o najmniejszej współrzędnej y,\n",
    "    w przypadku, gdy wiele punktów ma tę samą współrzędną y, to wśród nich ten z najmniejszą współrzędną x\n",
    "    :param Q: zbiór punktów\n",
    "    :return: krotka (x,y) współrzędnych szukanego punktu\n",
    "    \"\"\"\n",
    "    n=len(Q)\n",
    "    min_point=Q[0]\n",
    "    for i in range(1,n):\n",
    "        if Q[i][1]<min_point[1] or (Q[i][1]==min_point[1] and Q[i][0]<min_point[0]):\n",
    "            min_point=Q[i]\n",
    "    return min_point"
   ]
  },
  {
   "cell_type": "code",
   "execution_count": null,
   "metadata": {},
   "outputs": [],
   "source": [
    "def find_angles_and_dists_to_q(q,Q):\n",
    "    \"\"\"\n",
    "    Funkcja oblicza dla każdego punktu z Q kąt między prostą wyznaczoną przez ten punkt i punkt q a dodatnią półosią osi OX\n",
    "    oraz odległość tego punktu do punktu q\n",
    "    :param q: punkt o najmniejszej współrzędnej y (najmniejszej współrzędnej x dla wielu punktów o tej samej współrzędnej y)\n",
    "    :param Q: zbiór punktów\n",
    "    :return: tablica krotek postaci (wartość kąta w radianach, odległość od q, współrzędna x, współrzędna y)\n",
    "    \"\"\"\n",
    "    A=[(0,0,q[0],q[1])]\n",
    "    n=len(Q)\n",
    "    for i in range(n):\n",
    "        if Q[i]==q: continue\n",
    "        delta_x=Q[i][0]-q[0]\n",
    "        delta_y=Q[i][1]-q[1]\n",
    "        dist=(delta_x**2+delta_y**2)**0.5\n",
    "        angle=(int(np.arccos(delta_x/dist)*10**12))/10**12\n",
    "        A.append((angle,dist,Q[i][0],Q[i][1]))\n",
    "    return A"
   ]
  },
  {
   "cell_type": "code",
   "execution_count": null,
   "metadata": {},
   "outputs": [],
   "source": [
    "def delete_duplicates(A):\n",
    "    \"\"\"\n",
    "    Funkcja usuwa punkty, które wyznaczają ten sam kąt, z wyjątkiem najbardziej oddalonego punktu od punktu \n",
    "    o najmniejszej współrzędnej y lub najmniejszej współrzędnej x dla wielu punktów o tej samej współrzędnej y\n",
    "    :param A: tablica punktów posortowanych względem kąta przez nich wyznaczanego, dla tych samych kątów względem odległości\n",
    "    :return: tablica krotek (x,y) współrzędnych punktów o unikalnych wartościach wyznaczanych kątów\n",
    "    \"\"\"\n",
    "    T=[(A[0][2],A[0][3])]\n",
    "    n=len(A)\n",
    "    for i in range(2,n):\n",
    "        if A[i][0]>A[i-1][0]:\n",
    "            T.append((A[i-1][2],A[i-1][3]))\n",
    "    if n>1: T.append((A[n-1][2],A[n-1][3]))\n",
    "    return T"
   ]
  },
  {
   "cell_type": "markdown",
   "metadata": {},
   "source": [
    "<span style=\"color:red\">Ćw.</span> Uzupełnij funkcję ```graham_algorithm```, która oblicza otoczkę wypukłą korzystając z algorytmu Grahama."
   ]
  },
  {
   "cell_type": "code",
   "execution_count": null,
   "metadata": {},
   "outputs": [],
   "source": [
    "def graham_algorithm(Q):\n",
    "    '''\n",
    "    Funkcja buduje otoczkę wypukłą dla podanego zbioru punktów Q algorymem Grahama\n",
    "    :param Q: zbiór punktów\n",
    "    :return: tablica punktów tworzących otoczkę wypukłą w postaci krotek współrzędnych\n",
    "    '''\n",
    "    q=find_min_y(Q)\n",
    "    A=find_angles_and_dists_to_q(q,Q)\n",
    "    A.sort()\n",
    "    T=delete_duplicates(A)\n",
    "    n=len(T)\n",
    "    S=[]\n",
    "    for i in range(min(n,3)):\n",
    "        S.append(T[i])\n",
    "    for i in range(3,n):\n",
    "        while len(S)>2 and mat_det_3x3(S[-2],S[-1],T[i])>-10**(-24):\n",
    "            S.pop()\n",
    "        S.append(T[i])\n",
    "    return S "
   ]
  },
  {
   "cell_type": "markdown",
   "metadata": {},
   "source": [
    "Przetestuj swoją implementacje algorytmu Grahama, by sprawdzić czy poprawnie obliczana jest otoczka."
   ]
  },
  {
   "cell_type": "code",
   "execution_count": null,
   "metadata": {},
   "outputs": [],
   "source": [
    "Test().runtest(1, graham_algorithm)"
   ]
  },
  {
   "cell_type": "markdown",
   "metadata": {},
   "source": [
    "<span style=\"color:red\">Ćw.</span> Uzupełnij funkcję ```graham_algorithm_draw```, która oblicza otoczkę wypukłą korzystając z algorytmu Grahama z dodatkową opcją wyświetlania kroków algorytmu."
   ]
  },
  {
   "cell_type": "code",
   "execution_count": null,
   "metadata": {},
   "outputs": [],
   "source": [
    "def graham_algorithm_draw(Q):\n",
    "    '''\n",
    "    Funkcja buduje otoczkę wypukłą dla podanego zbioru punktów Q algorytmem Grahama oraz pokazuje poszczególne kroki algorytmu\n",
    "    :param Q: zbiór punktów\n",
    "    :return: krotka w postaci (tablica punktów w postaci krotek współrzędnych, wizualizer pokazujący kroki algorytmu) \n",
    "    '''\n",
    "    q=find_min_y(Q)\n",
    "    A=find_angles_and_dists_to_q(q,Q)\n",
    "    A.sort()\n",
    "    T=delete_duplicates(A)\n",
    "    n=len(T)\n",
    "    S=[]\n",
    "    edges=[]\n",
    "    vis=Visualizer()\n",
    "    vis.add_point(Q)\n",
    "    for i in range(min(n,3)):\n",
    "        S.append(T[i])\n",
    "        vis.add_point(S[-1],color=\"red\")\n",
    "    for i in range(min(n-1,2)):\n",
    "        ls=vis.add_line_segment([S[i],S[i+1]],color=\"red\")\n",
    "        edges.append(ls)\n",
    "    for i in range(3,n):\n",
    "        while len(S)>2 and mat_det_3x3(S[-2],S[-1],T[i])>-10**(-24):\n",
    "            vis.remove_figure(edges[-1])\n",
    "            vis.add_point(S[-1],color=\"brown\")\n",
    "            S.pop()\n",
    "            edges.pop()\n",
    "        S.append(T[i])\n",
    "        vis.add_point(S[-1],color=\"red\")\n",
    "        ls=vis.add_line_segment([S[-2],S[-1]],color=\"red\")\n",
    "        edges.append(ls) \n",
    "    vis.add_line_segment([S[-1],S[0]],color=\"red\")\n",
    "    return S,vis"
   ]
  },
  {
   "cell_type": "markdown",
   "metadata": {},
   "source": [
    "Zwizualizuj swoją implementację algorytmu."
   ]
  },
  {
   "cell_type": "markdown",
   "metadata": {},
   "source": [
    "Zbiór danych A"
   ]
  },
  {
   "cell_type": "code",
   "execution_count": null,
   "metadata": {},
   "outputs": [],
   "source": [
    "graham_points_a, vis_graham_a = graham_algorithm_draw(points_a)\n",
    "print(len(graham_points_a))"
   ]
  },
  {
   "cell_type": "code",
   "execution_count": null,
   "metadata": {},
   "outputs": [],
   "source": [
    "vis_graham_a.show_gif(interval=200)"
   ]
  },
  {
   "cell_type": "code",
   "execution_count": null,
   "metadata": {},
   "outputs": [],
   "source": [
    "# visualize(graham_points_a)\n",
    "vis.clear()\n",
    "vis.add_point(points_a)\n",
    "vis.add_point(graham_points_a,color=\"red\")\n",
    "vis.add_line_segment([(graham_points_a[i], graham_points_a[i+1]) for i in range(len(graham_points_a)-1)],color=\"red\")\n",
    "vis.add_line_segment([graham_points_a[-1], graham_points_a[0]],color=\"red\")\n",
    "vis.show()"
   ]
  },
  {
   "cell_type": "markdown",
   "metadata": {},
   "source": [
    "Zbiór danych B"
   ]
  },
  {
   "cell_type": "code",
   "execution_count": null,
   "metadata": {},
   "outputs": [],
   "source": [
    "graham_points_b, vis_graham_b = graham_algorithm_draw(points_b)\n",
    "print(len(graham_points_b))"
   ]
  },
  {
   "cell_type": "code",
   "execution_count": null,
   "metadata": {},
   "outputs": [],
   "source": [
    "vis_graham_b.show_gif()"
   ]
  },
  {
   "cell_type": "code",
   "execution_count": null,
   "metadata": {},
   "outputs": [],
   "source": [
    "# visualize(graham_points_b)\n",
    "vis.clear()\n",
    "vis.add_point(points_b)\n",
    "vis.add_point(graham_points_b,color=\"red\")\n",
    "vis.add_line_segment([(graham_points_b[i], graham_points_b[i+1]) for i in range(len(graham_points_b)-1)],color=\"red\")\n",
    "vis.add_line_segment([graham_points_b[-1], graham_points_b[0]],color=\"red\")\n",
    "vis.show()"
   ]
  },
  {
   "cell_type": "markdown",
   "metadata": {},
   "source": [
    "Zbiór danych C"
   ]
  },
  {
   "cell_type": "code",
   "execution_count": null,
   "metadata": {},
   "outputs": [],
   "source": [
    "graham_points_c, vis_graham_c = graham_algorithm_draw(points_c)\n",
    "print(len(graham_points_c))"
   ]
  },
  {
   "cell_type": "code",
   "execution_count": null,
   "metadata": {},
   "outputs": [],
   "source": [
    "vis_graham_c.show_gif()"
   ]
  },
  {
   "cell_type": "code",
   "execution_count": null,
   "metadata": {},
   "outputs": [],
   "source": [
    "# visualize(graham_points_c)\n",
    "vis.clear()\n",
    "vis.add_point(points_c)\n",
    "vis.add_point(graham_points_c,color=\"red\")\n",
    "vis.add_line_segment([(graham_points_c[i], graham_points_c[i+1]) for i in range(len(graham_points_c)-1)],color=\"red\")\n",
    "vis.add_line_segment([graham_points_c[-1], graham_points_c[0]],color=\"red\")\n",
    "vis.show()"
   ]
  },
  {
   "cell_type": "markdown",
   "metadata": {},
   "source": [
    "Zbiór danych D"
   ]
  },
  {
   "cell_type": "code",
   "execution_count": null,
   "metadata": {},
   "outputs": [],
   "source": [
    "graham_points_d, vis_graham_d = graham_algorithm_draw(points_d)\n",
    "print(len(graham_points_d))"
   ]
  },
  {
   "cell_type": "code",
   "execution_count": null,
   "metadata": {},
   "outputs": [],
   "source": [
    "vis_graham_d.show_gif()"
   ]
  },
  {
   "cell_type": "code",
   "execution_count": null,
   "metadata": {},
   "outputs": [],
   "source": [
    "# visualize(graham_points_d)\n",
    "vis.clear()\n",
    "vis.add_point(points_d)\n",
    "vis.add_point(graham_points_d,color=\"red\")\n",
    "vis.add_line_segment([(graham_points_d[i], graham_points_d[i+1]) for i in range(len(graham_points_d)-1)],color=\"red\")\n",
    "vis.add_line_segment([graham_points_d[-1], graham_points_d[0]],color=\"red\")\n",
    "vis.show()"
   ]
  },
  {
   "cell_type": "markdown",
   "metadata": {},
   "source": [
    "### Algorytm Jarvisa"
   ]
  },
  {
   "cell_type": "markdown",
   "metadata": {},
   "source": [
    "Algorytm Jarvisa oblicza otoczkę wypukłą dla zbioru punktów $Q$ przez technikę zwaną owijaniem paczki (*package wrapping*) lub owijaniem prezentu (*gift wrapping*). Algorytm Jarvisa buduje sekwencję $H = \\langle p_0, p_1, \\dots, p_m \\rangle$ będącą wierzchołkami $\\mathcal{CH}(Q)$. Zaczynamy od punktu $p_0$, następny punkt $p_1$ w otoczce wypukłej ma najmniejszy kąt w odniesieniu do $p_0$ (w przypadku takiego samego kąta - wybiera się punkt najdalej od $p_0$). Podobnie, $p_2$ ma najmniejszy kąt w odniesieniu do $p_1$ itd. Warto zauważyć, że możemy tym sposobem obliczyć lewy i prawy łańcuch otoczki wypukłej $\\mathcal{CH}(Q)$. Lewy łańcuch buduje się podobnie - gdy osiągniemy najwyższy wierzchołek w prawym łańcuchu $p_k$, wybieramy wierzchołek $p_{k+1}$, który ma najmniejszy kąt w odniesieniu do $p_k$, ale od ujemnej półosi $OX$. Można zaimplementować algorytm Jarvisa bez konstruowania pomocniczych łańcuchów - lewego i prawego. Taka implementacja utrzymuje śledzenie kąta ostatniej strony otoczki wypukłej i wymaga sekwencji kątów boków otoczki tylko rosnącej (patrząc na trzy ostatnie punkty jesteśmy w stanie obliczyć, jaki punkt należy włączyć do $\\mathcal{CH}(Q)$ w zależności od badanego punktu)."
   ]
  },
  {
   "cell_type": "markdown",
   "metadata": {},
   "source": [
    "<span style=\"color:red\">Ćw.</span> Uzupełnij funkcję ```jarvis_algorithm```, która oblicza otoczkę wypukłą korzystając z algorytmu Jarvisa."
   ]
  },
  {
   "cell_type": "code",
   "execution_count": null,
   "metadata": {},
   "outputs": [],
   "source": [
    "def jarvis_algorithm(Q):\n",
    "    '''\n",
    "    Funkcja buduje otoczkę wypukłą dla podanego zbioru punktów Q algorymem Jarvisa\n",
    "    :param Q: zbiór punktów\n",
    "    :return: tablica punktów w postaci krotek współrzędnych\n",
    "    '''\n",
    "    n=len(Q)\n",
    "    if n<=2: return Q\n",
    "    S=[find_min_y(Q)]\n",
    "    last_vect=(1,0)\n",
    "    last_len=1.0\n",
    "    curr_point=None\n",
    "    while curr_point!=S[0]:\n",
    "        min_angle=float('inf')\n",
    "        max_dist=-float('inf')\n",
    "        for i in range(n):\n",
    "            if Q[i]!=S[-1]:\n",
    "                delta_x=Q[i][0]-S[-1][0]\n",
    "                delta_y=Q[i][1]-S[-1][1]\n",
    "                dist=(delta_x**2+delta_y**2)**0.5\n",
    "                angle=(int(np.arccos((int(((delta_x*last_vect[0]+delta_y*last_vect[1])/(dist*last_len))*10**12))/10**12)*10**12))/10**12\n",
    "                if angle<min_angle or (angle==min_angle and dist>max_dist): \n",
    "                    curr_point=Q[i]\n",
    "                    min_angle=angle\n",
    "                    max_dist=dist\n",
    "        if curr_point!=S[0]:\n",
    "            S.append(curr_point)\n",
    "            last_vect=(S[-1][0]-S[-2][0],S[-1][1]-S[-2][1])\n",
    "            last_len=(last_vect[0]**2+last_vect[1]**2)**0.5\n",
    "    return S "
   ]
  },
  {
   "cell_type": "markdown",
   "metadata": {},
   "source": [
    "Przetestuj swoją implementacje algorytmu Jarvisa, by sprawdzić czy poprawnie obliczana jest otoczka."
   ]
  },
  {
   "cell_type": "code",
   "execution_count": null,
   "metadata": {},
   "outputs": [],
   "source": [
    "Test().runtest(2, jarvis_algorithm)"
   ]
  },
  {
   "cell_type": "markdown",
   "metadata": {},
   "source": [
    "<span style=\"color:red\">Ćw.</span> Uzupełnij funkcję ```jarvis_algorithm_draw```, która oblicza otoczkę wypukłą korzystając z algorytmu Jarvisa z dodatkową opcją wyświetlania kroków algorytmu."
   ]
  },
  {
   "cell_type": "code",
   "execution_count": null,
   "metadata": {},
   "outputs": [],
   "source": [
    "def jarvis_algorithm_draw(Q):\n",
    "    '''\n",
    "    Funkcja buduje otoczkę wypukłą dla podanego zbioru punktów Q algorymem Jarvisa oraz pokazuje poszczególne kroki algorytmu\n",
    "    :param Q: zbiór punktów\n",
    "    :return: krotka w postaci (tablica punktów w postaci krotek współrzędnych, wizualizer pokazujący kroki algorytmu) \n",
    "    '''\n",
    "    n=len(Q)\n",
    "    S=[find_min_y(Q)]\n",
    "    last_vect=(1,0)\n",
    "    last_len=1.0\n",
    "    curr_point=None\n",
    "    vis=Visualizer()\n",
    "    vis.add_point(Q)\n",
    "    vis.add_point(S[0],color=\"red\")\n",
    "    while curr_point!=S[0]:\n",
    "        min_angle=float('inf')\n",
    "        max_dist=-float('inf')\n",
    "        for i in range(n):\n",
    "            if Q[i]!=S[-1]:\n",
    "                delta_x=Q[i][0]-S[-1][0]\n",
    "                delta_y=Q[i][1]-S[-1][1]\n",
    "                dist=(delta_x**2+delta_y**2)**0.5\n",
    "                angle=(int(np.arccos((int(((delta_x*last_vect[0]+delta_y*last_vect[1])/(dist*last_len))*10**12))/10**12)*10**12))/10**12\n",
    "                if angle<min_angle or (angle==min_angle and dist>max_dist):\n",
    "                    if curr_point!=None: \n",
    "                        vis.remove_figure(ls)\n",
    "                        vis.remove_figure(p)\n",
    "                    curr_point=Q[i]\n",
    "                    p=vis.add_point(curr_point,color=\"yellow\")\n",
    "                    ls=vis.add_line_segment([S[-1],Q[i]],color=\"yellow\")\n",
    "                    min_angle=angle\n",
    "                    max_dist=dist\n",
    "        if curr_point!=S[0]:\n",
    "            vis.add_point(curr_point,color=\"red\")\n",
    "            vis.add_line_segment((S[-1],curr_point),color=\"red\")\n",
    "            S.append(curr_point)\n",
    "            last_vect=(S[-1][0]-S[-2][0],S[-1][1]-S[-2][1])\n",
    "            last_len=(last_vect[0]**2+last_vect[1]**2)**0.5\n",
    "        else: vis.add_point(S[0],color=\"red\")\n",
    "    vis.add_line_segment((S[-1],S[0]),color=\"red\")\n",
    "    return S, vis"
   ]
  },
  {
   "cell_type": "markdown",
   "metadata": {},
   "source": [
    "Zwizualizuj swoją implementację algorytmu."
   ]
  },
  {
   "cell_type": "markdown",
   "metadata": {},
   "source": [
    "Zbiór danych A"
   ]
  },
  {
   "cell_type": "code",
   "execution_count": null,
   "metadata": {},
   "outputs": [],
   "source": [
    "jarvis_points_a, vis_jarvis_a = jarvis_algorithm_draw(points_a)\n",
    "print(len(jarvis_points_a))"
   ]
  },
  {
   "cell_type": "code",
   "execution_count": null,
   "metadata": {},
   "outputs": [],
   "source": [
    "vis_jarvis_a.show_gif()"
   ]
  },
  {
   "cell_type": "code",
   "execution_count": null,
   "metadata": {},
   "outputs": [],
   "source": [
    "#visualize(jarvis_points_a)\n",
    "vis.clear()\n",
    "vis.add_point(points_a)\n",
    "vis.add_point(jarvis_points_a,color=\"red\")\n",
    "vis.add_line_segment([(jarvis_points_a[i], jarvis_points_a[i+1]) for i in range(len(jarvis_points_a)-1)],color=\"red\")\n",
    "vis.add_line_segment([jarvis_points_a[-1], jarvis_points_a[0]],color=\"red\")\n",
    "vis.show()"
   ]
  },
  {
   "cell_type": "markdown",
   "metadata": {},
   "source": [
    "Zbiór danych B"
   ]
  },
  {
   "cell_type": "code",
   "execution_count": null,
   "metadata": {},
   "outputs": [],
   "source": [
    "jarvis_points_b, vis_jarvis_b = jarvis_algorithm_draw(points_b)\n",
    "print(len(jarvis_points_b))"
   ]
  },
  {
   "cell_type": "code",
   "execution_count": null,
   "metadata": {},
   "outputs": [],
   "source": [
    "vis_jarvis_b.show_gif()"
   ]
  },
  {
   "cell_type": "code",
   "execution_count": null,
   "metadata": {},
   "outputs": [],
   "source": [
    "# visualize(jarvis_points_b)\n",
    "vis.clear()\n",
    "vis.add_point(points_b)\n",
    "vis.add_point(jarvis_points_b,color=\"red\")\n",
    "vis.add_line_segment([(jarvis_points_b[i], jarvis_points_b[i+1]) for i in range(len(jarvis_points_b)-1)],color=\"red\")\n",
    "vis.add_line_segment([jarvis_points_b[-1], jarvis_points_b[0]],color=\"red\")\n",
    "vis.show()"
   ]
  },
  {
   "cell_type": "markdown",
   "metadata": {},
   "source": [
    "Zbiór danych C"
   ]
  },
  {
   "cell_type": "code",
   "execution_count": null,
   "metadata": {},
   "outputs": [],
   "source": [
    "jarvis_points_c, vis_jarvis_c = jarvis_algorithm_draw(points_c)\n",
    "print(len(jarvis_points_c))"
   ]
  },
  {
   "cell_type": "code",
   "execution_count": null,
   "metadata": {},
   "outputs": [],
   "source": [
    "vis_jarvis_c.show_gif()"
   ]
  },
  {
   "cell_type": "code",
   "execution_count": null,
   "metadata": {},
   "outputs": [],
   "source": [
    "# visualize(jarvis_points_c)\n",
    "vis.clear()\n",
    "vis.add_point(points_c)\n",
    "vis.add_point(jarvis_points_c,color=\"red\")\n",
    "vis.add_line_segment([(jarvis_points_c[i], jarvis_points_c[i+1]) for i in range(len(jarvis_points_c)-1)],color=\"red\")\n",
    "vis.add_line_segment([jarvis_points_c[-1], jarvis_points_c[0]],color=\"red\")\n",
    "vis.show()"
   ]
  },
  {
   "cell_type": "markdown",
   "metadata": {},
   "source": [
    "Zbiór danych D"
   ]
  },
  {
   "cell_type": "code",
   "execution_count": null,
   "metadata": {},
   "outputs": [],
   "source": [
    "jarvis_points_d, vis_jarvis_d = jarvis_algorithm_draw(points_d)\n",
    "print(len(jarvis_points_d))"
   ]
  },
  {
   "cell_type": "code",
   "execution_count": null,
   "metadata": {},
   "outputs": [],
   "source": [
    "vis_jarvis_d.show_gif()"
   ]
  },
  {
   "cell_type": "code",
   "execution_count": null,
   "metadata": {},
   "outputs": [],
   "source": [
    "# visualize(jarvis_points_d)\n",
    "vis.clear()\n",
    "vis.add_point(points_d)\n",
    "vis.add_point(jarvis_points_d,color=\"red\")\n",
    "vis.add_line_segment([(jarvis_points_d[i], jarvis_points_d[i+1]) for i in range(len(jarvis_points_d)-1)],color=\"red\")\n",
    "vis.add_line_segment([jarvis_points_d[-1], jarvis_points_d[0]],color=\"red\")\n",
    "vis.show()"
   ]
  },
  {
   "cell_type": "markdown",
   "metadata": {},
   "source": [
    "\n",
    "---\n",
    "\n",
    "Po zobaczeniu i przetestowaniu wstępnych zbiorów danych, przyszła kolej na porównanie czasów działania dla różnych danych. Do tego potrzebujemy bardziej miarodajnych zbiorów.  \n",
    "<span style=\"color:red\">Ćw.</span> Stwórz zmodyfikowane zbiory danych A, B, C oraz D."
   ]
  },
  {
   "cell_type": "code",
   "execution_count": null,
   "metadata": {},
   "outputs": [],
   "source": [
    "no_points_acd=[100,1000,5000,10000,50000]\n",
    "no_points_b=[10,100,500,1000,5000]\n",
    "new_points_a=[generate_uniform_points(-1000, 1000, no_points_acd[i]) for i in range(len(no_points_acd))]\n",
    "new_points_b=[generate_circle_points((100,100), 500, no_points_b[i]) for i in range(len(no_points_b))]\n",
    "new_points_c=[generate_rectangle_points((-200,50), (-200,-150), (100,-150), (100,50), no_points_acd[i]) for i in range(len(no_points_acd))]\n",
    "new_points_d=[generate_square_points((0,0), (100,0), (100,100), (0,100), int(0.3*no_points_acd[i])-1, int(0.2*no_points_acd[i])-1) for i in range(len(no_points_acd))]"
   ]
  },
  {
   "cell_type": "markdown",
   "metadata": {},
   "source": [
    "Po przygotowaniu zbiorów danych, dokonaj porównania czasowego.  \n",
    "<span style=\"color:red\">Ćw.</span> Porównaj zmodyfikowane zbiory danych A, B, C oraz D dla algorytmów Grahama i Jarvisa."
   ]
  },
  {
   "cell_type": "code",
   "execution_count": null,
   "metadata": {},
   "outputs": [],
   "source": [
    "from time import time\n",
    "new_points=[(\"Zbiór A\",new_points_a), (\"Zbiór B\",new_points_b), (\"Zbiór C\",new_points_c), (\"Zbiór D\",new_points_d)]\n",
    "for i in range (len(new_points)):\n",
    "    print(new_points[i][0],\":\")\n",
    "    for j in range(len(new_points[i][1])):\n",
    "        print(\"Liczba punktów:\",len(new_points[i][1][j]),\"\\nAlgorytm Grahama: \",end='')\n",
    "        t0=time()\n",
    "        graham_algorithm(new_points[i][1][j])\n",
    "        t1=time()\n",
    "        print(\"czas wykonania {ex_time:.4f} s\".format(ex_time=t1-t0))\n",
    "        print(\"Algorytm Jarvisa: \",end='')\n",
    "        t0=time()\n",
    "        jarvis_algorithm(new_points[i][1][j])\n",
    "        t1=time()\n",
    "        print(\"czas wykonania {ex_time:.4f} s\\n\".format(ex_time=t1-t0))"
   ]
  },
  {
   "cell_type": "markdown",
   "metadata": {},
   "source": [
    "---\n",
    "\n",
    "Bibliografia:\n",
    "- Wprowadzenie do algorytmów wydanie 3, Thomas H. Cormen, Charles E. Leiserson, Ronald L. Rivest, Stein Clifford\n"
   ]
  }
 ],
 "metadata": {
  "kernelspec": {
   "display_name": "Python 3 (ipykernel)",
   "language": "python",
   "name": "python3"
  },
  "language_info": {
   "codemirror_mode": {
    "name": "ipython",
    "version": 3
   },
   "file_extension": ".py",
   "mimetype": "text/x-python",
   "name": "python",
   "nbconvert_exporter": "python",
   "pygments_lexer": "ipython3",
   "version": "3.9.18"
  }
 },
 "nbformat": 4,
 "nbformat_minor": 2
}
